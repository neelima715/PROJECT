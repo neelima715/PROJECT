{
 "cells": [
  {
   "cell_type": "markdown",
   "metadata": {},
   "source": [
    "Project:Weather Predicitng System\n",
    "DOMAIN:MACHINE LEARNING USING PYTHON"
   ]
  },
  {
   "cell_type": "markdown",
   "metadata": {},
   "source": [
    "First, we import the libraries."
   ]
  },
  {
   "cell_type": "code",
   "execution_count": 2,
   "metadata": {
    "_cell_guid": "79c7e3d0-c299-4dcb-8224-4455121ee9b0",
    "_uuid": "d629ff2d2480ee46fbb7e2d37f6b5fab8052498a",
    "execution": {
     "iopub.execute_input": "2021-08-19T18:45:27.136779Z",
     "iopub.status.busy": "2021-08-19T18:45:27.136098Z",
     "iopub.status.idle": "2021-08-19T18:45:28.216141Z",
     "shell.execute_reply": "2021-08-19T18:45:28.215379Z",
     "shell.execute_reply.started": "2021-08-19T18:43:54.897979Z"
    },
    "papermill": {
     "duration": 1.16155,
     "end_time": "2021-08-19T18:45:28.216284",
     "exception": false,
     "start_time": "2021-08-19T18:45:27.054734",
     "status": "completed"
    },
    "tags": []
   },
   "outputs": [],
   "source": [
    "import pandas as pd\n",
    "import numpy as np\n",
    "import matplotlib.pyplot as plt\n",
    "import seaborn as sns\n",
    "%matplotlib inline"
   ]
  },
  {
   "cell_type": "code",
   "execution_count": 3,
   "metadata": {
    "execution": {
     "iopub.execute_input": "2021-08-19T18:45:28.520159Z",
     "iopub.status.busy": "2021-08-19T18:45:28.519499Z",
     "iopub.status.idle": "2021-08-19T18:45:28.522731Z",
     "shell.execute_reply": "2021-08-19T18:45:28.522228Z",
     "shell.execute_reply.started": "2021-08-19T18:43:56.050473Z"
    },
    "papermill": {
     "duration": 0.081838,
     "end_time": "2021-08-19T18:45:28.522873",
     "exception": false,
     "start_time": "2021-08-19T18:45:28.441035",
     "status": "completed"
    },
    "tags": []
   },
   "outputs": [],
   "source": [
    "def resizeplot():\n",
    "    plt.figure(figsize=(12,6))"
   ]
  },
  {
   "cell_type": "code",
   "execution_count": 4,
   "metadata": {
    "execution": {
     "iopub.execute_input": "2021-08-19T18:45:28.675591Z",
     "iopub.status.busy": "2021-08-19T18:45:28.674890Z",
     "iopub.status.idle": "2021-08-19T18:45:28.677016Z",
     "shell.execute_reply": "2021-08-19T18:45:28.677499Z",
     "shell.execute_reply.started": "2021-08-19T18:43:56.057475Z"
    },
    "papermill": {
     "duration": 0.081639,
     "end_time": "2021-08-19T18:45:28.677675",
     "exception": false,
     "start_time": "2021-08-19T18:45:28.596036",
     "status": "completed"
    },
    "tags": []
   },
   "outputs": [],
   "source": [
    "def resizecorr():\n",
    "    plt.figure(figsize=(15,7))\n",
    "\n",
    "#This function it is for correlations plots"
   ]
  },
  {
   "cell_type": "markdown",
   "metadata": {
    "papermill": {
     "duration": 0.074968,
     "end_time": "2021-08-19T18:45:28.827997",
     "exception": false,
     "start_time": "2021-08-19T18:45:28.753029",
     "status": "completed"
    },
    "tags": []
   },
   "source": [
    "*  Load the data:"
   ]
  },
  {
   "cell_type": "code",
   "execution_count": 5,
   "metadata": {
    "execution": {
     "iopub.execute_input": "2021-08-19T18:45:28.982931Z",
     "iopub.status.busy": "2021-08-19T18:45:28.982227Z",
     "iopub.status.idle": "2021-08-19T18:45:29.004672Z",
     "shell.execute_reply": "2021-08-19T18:45:29.003973Z",
     "shell.execute_reply.started": "2021-08-19T18:43:56.072857Z"
    },
    "papermill": {
     "duration": 0.100403,
     "end_time": "2021-08-19T18:45:29.004865",
     "exception": false,
     "start_time": "2021-08-19T18:45:28.904462",
     "status": "completed"
    },
    "tags": []
   },
   "outputs": [],
   "source": [
    "df = pd.read_csv('input/weathercsv/weather.csv')"
   ]
  },
  {
   "cell_type": "code",
   "execution_count": 6,
   "metadata": {
    "execution": {
     "iopub.execute_input": "2021-08-19T18:45:29.190359Z",
     "iopub.status.busy": "2021-08-19T18:45:29.185525Z",
     "iopub.status.idle": "2021-08-19T18:45:29.209892Z",
     "shell.execute_reply": "2021-08-19T18:45:29.209266Z",
     "shell.execute_reply.started": "2021-08-19T18:43:56.107215Z"
    },
    "papermill": {
     "duration": 0.128803,
     "end_time": "2021-08-19T18:45:29.210031",
     "exception": false,
     "start_time": "2021-08-19T18:45:29.081228",
     "status": "completed"
    },
    "tags": []
   },
   "outputs": [
    {
     "data": {
      "text/html": [
       "<div>\n",
       "<style scoped>\n",
       "    .dataframe tbody tr th:only-of-type {\n",
       "        vertical-align: middle;\n",
       "    }\n",
       "\n",
       "    .dataframe tbody tr th {\n",
       "        vertical-align: top;\n",
       "    }\n",
       "\n",
       "    .dataframe thead th {\n",
       "        text-align: right;\n",
       "    }\n",
       "</style>\n",
       "<table border=\"1\" class=\"dataframe\">\n",
       "  <thead>\n",
       "    <tr style=\"text-align: right;\">\n",
       "      <th></th>\n",
       "      <th>MinTemp</th>\n",
       "      <th>MaxTemp</th>\n",
       "      <th>Rainfall</th>\n",
       "      <th>Evaporation</th>\n",
       "      <th>Sunshine</th>\n",
       "      <th>WindGustDir</th>\n",
       "      <th>WindGustSpeed</th>\n",
       "      <th>WindDir9am</th>\n",
       "      <th>WindDir3pm</th>\n",
       "      <th>WindSpeed9am</th>\n",
       "      <th>...</th>\n",
       "      <th>Humidity3pm</th>\n",
       "      <th>Pressure9am</th>\n",
       "      <th>Pressure3pm</th>\n",
       "      <th>Cloud9am</th>\n",
       "      <th>Cloud3pm</th>\n",
       "      <th>Temp9am</th>\n",
       "      <th>Temp3pm</th>\n",
       "      <th>RainToday</th>\n",
       "      <th>RISK_MM</th>\n",
       "      <th>RainTomorrow</th>\n",
       "    </tr>\n",
       "  </thead>\n",
       "  <tbody>\n",
       "    <tr>\n",
       "      <th>0</th>\n",
       "      <td>8.0</td>\n",
       "      <td>24.3</td>\n",
       "      <td>0.0</td>\n",
       "      <td>3.4</td>\n",
       "      <td>6.3</td>\n",
       "      <td>NW</td>\n",
       "      <td>30.0</td>\n",
       "      <td>SW</td>\n",
       "      <td>NW</td>\n",
       "      <td>6.0</td>\n",
       "      <td>...</td>\n",
       "      <td>29</td>\n",
       "      <td>1019.7</td>\n",
       "      <td>1015.0</td>\n",
       "      <td>7</td>\n",
       "      <td>7</td>\n",
       "      <td>14.4</td>\n",
       "      <td>23.6</td>\n",
       "      <td>No</td>\n",
       "      <td>3.6</td>\n",
       "      <td>Yes</td>\n",
       "    </tr>\n",
       "    <tr>\n",
       "      <th>1</th>\n",
       "      <td>14.0</td>\n",
       "      <td>26.9</td>\n",
       "      <td>3.6</td>\n",
       "      <td>4.4</td>\n",
       "      <td>9.7</td>\n",
       "      <td>ENE</td>\n",
       "      <td>39.0</td>\n",
       "      <td>E</td>\n",
       "      <td>W</td>\n",
       "      <td>4.0</td>\n",
       "      <td>...</td>\n",
       "      <td>36</td>\n",
       "      <td>1012.4</td>\n",
       "      <td>1008.4</td>\n",
       "      <td>5</td>\n",
       "      <td>3</td>\n",
       "      <td>17.5</td>\n",
       "      <td>25.7</td>\n",
       "      <td>Yes</td>\n",
       "      <td>3.6</td>\n",
       "      <td>Yes</td>\n",
       "    </tr>\n",
       "    <tr>\n",
       "      <th>2</th>\n",
       "      <td>13.7</td>\n",
       "      <td>23.4</td>\n",
       "      <td>3.6</td>\n",
       "      <td>5.8</td>\n",
       "      <td>3.3</td>\n",
       "      <td>NW</td>\n",
       "      <td>85.0</td>\n",
       "      <td>N</td>\n",
       "      <td>NNE</td>\n",
       "      <td>6.0</td>\n",
       "      <td>...</td>\n",
       "      <td>69</td>\n",
       "      <td>1009.5</td>\n",
       "      <td>1007.2</td>\n",
       "      <td>8</td>\n",
       "      <td>7</td>\n",
       "      <td>15.4</td>\n",
       "      <td>20.2</td>\n",
       "      <td>Yes</td>\n",
       "      <td>39.8</td>\n",
       "      <td>Yes</td>\n",
       "    </tr>\n",
       "    <tr>\n",
       "      <th>3</th>\n",
       "      <td>13.3</td>\n",
       "      <td>15.5</td>\n",
       "      <td>39.8</td>\n",
       "      <td>7.2</td>\n",
       "      <td>9.1</td>\n",
       "      <td>NW</td>\n",
       "      <td>54.0</td>\n",
       "      <td>WNW</td>\n",
       "      <td>W</td>\n",
       "      <td>30.0</td>\n",
       "      <td>...</td>\n",
       "      <td>56</td>\n",
       "      <td>1005.5</td>\n",
       "      <td>1007.0</td>\n",
       "      <td>2</td>\n",
       "      <td>7</td>\n",
       "      <td>13.5</td>\n",
       "      <td>14.1</td>\n",
       "      <td>Yes</td>\n",
       "      <td>2.8</td>\n",
       "      <td>Yes</td>\n",
       "    </tr>\n",
       "    <tr>\n",
       "      <th>4</th>\n",
       "      <td>7.6</td>\n",
       "      <td>16.1</td>\n",
       "      <td>2.8</td>\n",
       "      <td>5.6</td>\n",
       "      <td>10.6</td>\n",
       "      <td>SSE</td>\n",
       "      <td>50.0</td>\n",
       "      <td>SSE</td>\n",
       "      <td>ESE</td>\n",
       "      <td>20.0</td>\n",
       "      <td>...</td>\n",
       "      <td>49</td>\n",
       "      <td>1018.3</td>\n",
       "      <td>1018.5</td>\n",
       "      <td>7</td>\n",
       "      <td>7</td>\n",
       "      <td>11.1</td>\n",
       "      <td>15.4</td>\n",
       "      <td>Yes</td>\n",
       "      <td>0.0</td>\n",
       "      <td>No</td>\n",
       "    </tr>\n",
       "  </tbody>\n",
       "</table>\n",
       "<p>5 rows × 22 columns</p>\n",
       "</div>"
      ],
      "text/plain": [
       "   MinTemp  MaxTemp  Rainfall  Evaporation  Sunshine WindGustDir  \\\n",
       "0      8.0     24.3       0.0          3.4       6.3          NW   \n",
       "1     14.0     26.9       3.6          4.4       9.7         ENE   \n",
       "2     13.7     23.4       3.6          5.8       3.3          NW   \n",
       "3     13.3     15.5      39.8          7.2       9.1          NW   \n",
       "4      7.6     16.1       2.8          5.6      10.6         SSE   \n",
       "\n",
       "   WindGustSpeed WindDir9am WindDir3pm  WindSpeed9am  ...  Humidity3pm  \\\n",
       "0           30.0         SW         NW           6.0  ...           29   \n",
       "1           39.0          E          W           4.0  ...           36   \n",
       "2           85.0          N        NNE           6.0  ...           69   \n",
       "3           54.0        WNW          W          30.0  ...           56   \n",
       "4           50.0        SSE        ESE          20.0  ...           49   \n",
       "\n",
       "   Pressure9am  Pressure3pm  Cloud9am  Cloud3pm  Temp9am  Temp3pm  RainToday  \\\n",
       "0       1019.7       1015.0         7         7     14.4     23.6         No   \n",
       "1       1012.4       1008.4         5         3     17.5     25.7        Yes   \n",
       "2       1009.5       1007.2         8         7     15.4     20.2        Yes   \n",
       "3       1005.5       1007.0         2         7     13.5     14.1        Yes   \n",
       "4       1018.3       1018.5         7         7     11.1     15.4        Yes   \n",
       "\n",
       "   RISK_MM RainTomorrow  \n",
       "0      3.6          Yes  \n",
       "1      3.6          Yes  \n",
       "2     39.8          Yes  \n",
       "3      2.8          Yes  \n",
       "4      0.0           No  \n",
       "\n",
       "[5 rows x 22 columns]"
      ]
     },
     "execution_count": 6,
     "metadata": {},
     "output_type": "execute_result"
    }
   ],
   "source": [
    "df.head()"
   ]
  },
  {
   "cell_type": "markdown",
   "metadata": {
    "papermill": {
     "duration": 0.088563,
     "end_time": "2021-08-19T18:45:29.398183",
     "exception": false,
     "start_time": "2021-08-19T18:45:29.309620",
     "status": "completed"
    },
    "tags": []
   },
   "source": [
    "* Let's see if there are missing data."
   ]
  },
  {
   "cell_type": "code",
   "execution_count": 7,
   "metadata": {
    "execution": {
     "iopub.execute_input": "2021-08-19T18:45:29.555186Z",
     "iopub.status.busy": "2021-08-19T18:45:29.554522Z",
     "iopub.status.idle": "2021-08-19T18:45:29.558749Z",
     "shell.execute_reply": "2021-08-19T18:45:29.559237Z",
     "shell.execute_reply.started": "2021-08-19T18:43:56.165136Z"
    },
    "papermill": {
     "duration": 0.086746,
     "end_time": "2021-08-19T18:45:29.559403",
     "exception": false,
     "start_time": "2021-08-19T18:45:29.472657",
     "status": "completed"
    },
    "tags": []
   },
   "outputs": [
    {
     "data": {
      "text/plain": [
       "MinTemp           0\n",
       "MaxTemp           0\n",
       "Rainfall          0\n",
       "Evaporation       0\n",
       "Sunshine          3\n",
       "WindGustDir       3\n",
       "WindGustSpeed     2\n",
       "WindDir9am       31\n",
       "WindDir3pm        1\n",
       "WindSpeed9am      7\n",
       "WindSpeed3pm      0\n",
       "Humidity9am       0\n",
       "Humidity3pm       0\n",
       "Pressure9am       0\n",
       "Pressure3pm       0\n",
       "Cloud9am          0\n",
       "Cloud3pm          0\n",
       "Temp9am           0\n",
       "Temp3pm           0\n",
       "RainToday         0\n",
       "RISK_MM           0\n",
       "RainTomorrow      0\n",
       "dtype: int64"
      ]
     },
     "execution_count": 7,
     "metadata": {},
     "output_type": "execute_result"
    }
   ],
   "source": [
    "df.isnull().sum()"
   ]
  },
  {
   "cell_type": "markdown",
   "metadata": {
    "papermill": {
     "duration": 0.07591,
     "end_time": "2021-08-19T18:45:29.710477",
     "exception": false,
     "start_time": "2021-08-19T18:45:29.634567",
     "status": "completed"
    },
    "tags": []
   },
   "source": [
    "* We have some missing data. We will visualize them better in the graph."
   ]
  },
  {
   "cell_type": "code",
   "execution_count": 8,
   "metadata": {
    "execution": {
     "iopub.execute_input": "2021-08-19T18:45:29.867642Z",
     "iopub.status.busy": "2021-08-19T18:45:29.866971Z",
     "iopub.status.idle": "2021-08-19T18:45:30.127987Z",
     "shell.execute_reply": "2021-08-19T18:45:30.128459Z",
     "shell.execute_reply.started": "2021-08-19T18:43:56.176971Z"
    },
    "papermill": {
     "duration": 0.341908,
     "end_time": "2021-08-19T18:45:30.128621",
     "exception": false,
     "start_time": "2021-08-19T18:45:29.786713",
     "status": "completed"
    },
    "tags": []
   },
   "outputs": [
    {
     "data": {
      "text/plain": [
       "<matplotlib.axes._subplots.AxesSubplot at 0x7f09d98a8ad0>"
      ]
     },
     "execution_count": 8,
     "metadata": {},
     "output_type": "execute_result"
    },
    {
     "data": {
      "image/png": "[encoded data removed]",
      "text/plain": [
       "<Figure size 864x432 with 1 Axes>"
      ]
     },
     "metadata": {
      "needs_background": "light"
     },
     "output_type": "display_data"
    }
   ],
   "source": [
    "resizeplot()\n",
    "sns.heatmap(df.isnull(),yticklabels=False,cbar=False,cmap='viridis')"
   ]
  },
  {
   "cell_type": "code",
   "execution_count": 9,
   "metadata": {
    "execution": {
     "iopub.execute_input": "2021-08-19T18:45:30.440932Z",
     "iopub.status.busy": "2021-08-19T18:45:30.440235Z",
     "iopub.status.idle": "2021-08-19T18:45:30.729238Z",
     "shell.execute_reply": "2021-08-19T18:45:30.728664Z",
     "shell.execute_reply.started": "2021-08-19T18:43:56.494075Z"
    },
    "papermill": {
     "duration": 0.371267,
     "end_time": "2021-08-19T18:45:30.729369",
     "exception": false,
     "start_time": "2021-08-19T18:45:30.358102",
     "status": "completed"
    },
    "tags": []
   },
   "outputs": [],
   "source": [
    "from sklearn.impute import KNNImputer"
   ]
  },
  {
   "cell_type": "code",
   "execution_count": 10,
   "metadata": {
    "execution": {
     "iopub.execute_input": "2021-08-19T18:45:30.889739Z",
     "iopub.status.busy": "2021-08-19T18:45:30.889075Z",
     "iopub.status.idle": "2021-08-19T18:45:30.892564Z",
     "shell.execute_reply": "2021-08-19T18:45:30.891969Z",
     "shell.execute_reply.started": "2021-08-19T18:43:56.809030Z"
    },
    "papermill": {
     "duration": 0.08644,
     "end_time": "2021-08-19T18:45:30.892692",
     "exception": false,
     "start_time": "2021-08-19T18:45:30.806252",
     "status": "completed"
    },
    "tags": []
   },
   "outputs": [],
   "source": [
    "from sklearn.impute import SimpleImputer"
   ]
  },
  {
   "cell_type": "code",
   "execution_count": 11,
   "metadata": {
    "execution": {
     "iopub.execute_input": "2021-08-19T18:45:31.052042Z",
     "iopub.status.busy": "2021-08-19T18:45:31.051268Z",
     "iopub.status.idle": "2021-08-19T18:45:31.054432Z",
     "shell.execute_reply": "2021-08-19T18:45:31.053707Z",
     "shell.execute_reply.started": "2021-08-19T18:43:56.816855Z"
    },
    "papermill": {
     "duration": 0.085006,
     "end_time": "2021-08-19T18:45:31.054567",
     "exception": false,
     "start_time": "2021-08-19T18:45:30.969561",
     "status": "completed"
    },
    "tags": []
   },
   "outputs": [],
   "source": [
    "imputer_int = KNNImputer(missing_values=np.nan)"
   ]
  },
  {
   "cell_type": "code",
   "execution_count": 12,
   "metadata": {
    "execution": {
     "iopub.execute_input": "2021-08-19T18:45:31.213141Z",
     "iopub.status.busy": "2021-08-19T18:45:31.212399Z",
     "iopub.status.idle": "2021-08-19T18:45:31.227775Z",
     "shell.execute_reply": "2021-08-19T18:45:31.227058Z",
     "shell.execute_reply.started": "2021-08-19T18:43:56.832640Z"
    },
    "papermill": {
     "duration": 0.094787,
     "end_time": "2021-08-19T18:45:31.227936",
     "exception": false,
     "start_time": "2021-08-19T18:45:31.133149",
     "status": "completed"
    },
    "tags": []
   },
   "outputs": [],
   "source": [
    "df['Sunshine'] = imputer_int.fit_transform(df[['Sunshine']])"
   ]
  },
  {
   "cell_type": "code",
   "execution_count": 13,
   "metadata": {
    "execution": {
     "iopub.execute_input": "2021-08-19T18:45:31.389882Z",
     "iopub.status.busy": "2021-08-19T18:45:31.389198Z",
     "iopub.status.idle": "2021-08-19T18:45:31.394517Z",
     "shell.execute_reply": "2021-08-19T18:45:31.393844Z",
     "shell.execute_reply.started": "2021-08-19T18:43:56.854249Z"
    },
    "papermill": {
     "duration": 0.08856,
     "end_time": "2021-08-19T18:45:31.394654",
     "exception": false,
     "start_time": "2021-08-19T18:45:31.306094",
     "status": "completed"
    },
    "tags": []
   },
   "outputs": [],
   "source": [
    "imputer_str = SimpleImputer(missing_values=np.nan,strategy='most_frequent')"
   ]
  },
  {
   "cell_type": "code",
   "execution_count": 14,
   "metadata": {
    "execution": {
     "iopub.execute_input": "2021-08-19T18:45:31.560262Z",
     "iopub.status.busy": "2021-08-19T18:45:31.559561Z",
     "iopub.status.idle": "2021-08-19T18:45:31.562808Z",
     "shell.execute_reply": "2021-08-19T18:45:31.562297Z",
     "shell.execute_reply.started": "2021-08-19T18:43:56.865836Z"
    },
    "papermill": {
     "duration": 0.09098,
     "end_time": "2021-08-19T18:45:31.562954",
     "exception": false,
     "start_time": "2021-08-19T18:45:31.471974",
     "status": "completed"
    },
    "tags": []
   },
   "outputs": [],
   "source": [
    "df['WindGustDir'] = imputer_str.fit_transform(df[['WindGustDir']])"
   ]
  },
  {
   "cell_type": "code",
   "execution_count": 15,
   "metadata": {
    "execution": {
     "iopub.execute_input": "2021-08-19T18:45:31.727363Z",
     "iopub.status.busy": "2021-08-19T18:45:31.726444Z",
     "iopub.status.idle": "2021-08-19T18:45:31.731123Z",
     "shell.execute_reply": "2021-08-19T18:45:31.731604Z",
     "shell.execute_reply.started": "2021-08-19T18:43:56.888257Z"
    },
    "papermill": {
     "duration": 0.092462,
     "end_time": "2021-08-19T18:45:31.731760",
     "exception": false,
     "start_time": "2021-08-19T18:45:31.639298",
     "status": "completed"
    },
    "tags": []
   },
   "outputs": [],
   "source": [
    "df['WindGustSpeed'] = imputer_int.fit_transform(df[['WindGustSpeed']])"
   ]
  },
  {
   "cell_type": "code",
   "execution_count": 16,
   "metadata": {
    "execution": {
     "iopub.execute_input": "2021-08-19T18:45:31.900799Z",
     "iopub.status.busy": "2021-08-19T18:45:31.899761Z",
     "iopub.status.idle": "2021-08-19T18:45:31.903275Z",
     "shell.execute_reply": "2021-08-19T18:45:31.902702Z",
     "shell.execute_reply.started": "2021-08-19T18:43:56.911419Z"
    },
    "papermill": {
     "duration": 0.091762,
     "end_time": "2021-08-19T18:45:31.903400",
     "exception": false,
     "start_time": "2021-08-19T18:45:31.811638",
     "status": "completed"
    },
    "tags": []
   },
   "outputs": [],
   "source": [
    "df['WindDir9am'] = imputer_str.fit_transform(df[['WindDir9am']])"
   ]
  },
  {
   "cell_type": "code",
   "execution_count": 17,
   "metadata": {
    "execution": {
     "iopub.execute_input": "2021-08-19T18:45:32.067948Z",
     "iopub.status.busy": "2021-08-19T18:45:32.067262Z",
     "iopub.status.idle": "2021-08-19T18:45:32.070576Z",
     "shell.execute_reply": "2021-08-19T18:45:32.069899Z",
     "shell.execute_reply.started": "2021-08-19T18:43:56.933156Z"
    },
    "papermill": {
     "duration": 0.090506,
     "end_time": "2021-08-19T18:45:32.070695",
     "exception": false,
     "start_time": "2021-08-19T18:45:31.980189",
     "status": "completed"
    },
    "tags": []
   },
   "outputs": [],
   "source": [
    "df['WindDir3pm'] = imputer_str.fit_transform(df[['WindDir3pm']])"
   ]
  },
  {
   "cell_type": "code",
   "execution_count": 18,
   "metadata": {
    "execution": {
     "iopub.execute_input": "2021-08-19T18:45:32.234645Z",
     "iopub.status.busy": "2021-08-19T18:45:32.233943Z",
     "iopub.status.idle": "2021-08-19T18:45:32.237941Z",
     "shell.execute_reply": "2021-08-19T18:45:32.237291Z",
     "shell.execute_reply.started": "2021-08-19T18:43:56.948871Z"
    },
    "papermill": {
     "duration": 0.090949,
     "end_time": "2021-08-19T18:45:32.238070",
     "exception": false,
     "start_time": "2021-08-19T18:45:32.147121",
     "status": "completed"
    },
    "tags": []
   },
   "outputs": [],
   "source": [
    "df['WindSpeed9am'] = imputer_int.fit_transform(df[['WindSpeed9am']])"
   ]
  },
  {
   "cell_type": "code",
   "execution_count": 19,
   "metadata": {
    "execution": {
     "iopub.execute_input": "2021-08-19T18:45:32.393895Z",
     "iopub.status.busy": "2021-08-19T18:45:32.393234Z",
     "iopub.status.idle": "2021-08-19T18:45:32.590587Z",
     "shell.execute_reply": "2021-08-19T18:45:32.591106Z",
     "shell.execute_reply.started": "2021-08-19T18:43:56.975528Z"
    },
    "papermill": {
     "duration": 0.277145,
     "end_time": "2021-08-19T18:45:32.591252",
     "exception": false,
     "start_time": "2021-08-19T18:45:32.314107",
     "status": "completed"
    },
    "tags": []
   },
   "outputs": [
    {
     "data": {
      "text/plain": [
       "<matplotlib.axes._subplots.AxesSubplot at 0x7f09d17eea90>"
      ]
     },
     "execution_count": 19,
     "metadata": {},
     "output_type": "execute_result"
    },
    {
     "data": {
      "image/png": "[encoded data removed]",
      "text/plain": [
       "<Figure size 864x432 with 1 Axes>"
      ]
     },
     "metadata": {
      "needs_background": "light"
     },
     "output_type": "display_data"
    }
   ],
   "source": [
    "resizeplot()\n",
    "sns.heatmap(df.isnull(),yticklabels=False,cbar=False,cmap='viridis')"
   ]
  },
  {
   "cell_type": "code",
   "execution_count": 20,
   "metadata": {
    "execution": {
     "iopub.execute_input": "2021-08-19T18:45:33.117842Z",
     "iopub.status.busy": "2021-08-19T18:45:33.116819Z",
     "iopub.status.idle": "2021-08-19T18:45:33.119907Z",
     "shell.execute_reply": "2021-08-19T18:45:33.119265Z",
     "shell.execute_reply.started": "2021-08-19T18:43:57.219032Z"
    },
    "papermill": {
     "duration": 0.136467,
     "end_time": "2021-08-19T18:45:33.120027",
     "exception": false,
     "start_time": "2021-08-19T18:45:32.983560",
     "status": "completed"
    },
    "tags": []
   },
   "outputs": [],
   "source": [
    "df.drop('RISK_MM', inplace=True,axis=1)"
   ]
  },
  {
   "cell_type": "code",
   "execution_count": 21,
   "metadata": {
    "execution": {
     "iopub.execute_input": "2021-08-19T18:45:33.304834Z",
     "iopub.status.busy": "2021-08-19T18:45:33.303845Z",
     "iopub.status.idle": "2021-08-19T18:45:33.308933Z",
     "shell.execute_reply": "2021-08-19T18:45:33.308380Z",
     "shell.execute_reply.started": "2021-08-19T18:43:57.226202Z"
    },
    "papermill": {
     "duration": 0.111033,
     "end_time": "2021-08-19T18:45:33.309050",
     "exception": false,
     "start_time": "2021-08-19T18:45:33.198017",
     "status": "completed"
    },
    "tags": []
   },
   "outputs": [
    {
     "data": {
      "text/html": [
       "<div>\n",
       "<style scoped>\n",
       "    .dataframe tbody tr th:only-of-type {\n",
       "        vertical-align: middle;\n",
       "    }\n",
       "\n",
       "    .dataframe tbody tr th {\n",
       "        vertical-align: top;\n",
       "    }\n",
       "\n",
       "    .dataframe thead th {\n",
       "        text-align: right;\n",
       "    }\n",
       "</style>\n",
       "<table border=\"1\" class=\"dataframe\">\n",
       "  <thead>\n",
       "    <tr style=\"text-align: right;\">\n",
       "      <th></th>\n",
       "      <th>MinTemp</th>\n",
       "      <th>MaxTemp</th>\n",
       "      <th>Rainfall</th>\n",
       "      <th>Evaporation</th>\n",
       "      <th>Sunshine</th>\n",
       "      <th>WindGustDir</th>\n",
       "      <th>WindGustSpeed</th>\n",
       "      <th>WindDir9am</th>\n",
       "      <th>WindDir3pm</th>\n",
       "      <th>WindSpeed9am</th>\n",
       "      <th>...</th>\n",
       "      <th>Humidity9am</th>\n",
       "      <th>Humidity3pm</th>\n",
       "      <th>Pressure9am</th>\n",
       "      <th>Pressure3pm</th>\n",
       "      <th>Cloud9am</th>\n",
       "      <th>Cloud3pm</th>\n",
       "      <th>Temp9am</th>\n",
       "      <th>Temp3pm</th>\n",
       "      <th>RainToday</th>\n",
       "      <th>RainTomorrow</th>\n",
       "    </tr>\n",
       "  </thead>\n",
       "  <tbody>\n",
       "    <tr>\n",
       "      <th>0</th>\n",
       "      <td>8.0</td>\n",
       "      <td>24.3</td>\n",
       "      <td>0.0</td>\n",
       "      <td>3.4</td>\n",
       "      <td>6.3</td>\n",
       "      <td>NW</td>\n",
       "      <td>30.0</td>\n",
       "      <td>SW</td>\n",
       "      <td>NW</td>\n",
       "      <td>6.0</td>\n",
       "      <td>...</td>\n",
       "      <td>68</td>\n",
       "      <td>29</td>\n",
       "      <td>1019.7</td>\n",
       "      <td>1015.0</td>\n",
       "      <td>7</td>\n",
       "      <td>7</td>\n",
       "      <td>14.4</td>\n",
       "      <td>23.6</td>\n",
       "      <td>No</td>\n",
       "      <td>Yes</td>\n",
       "    </tr>\n",
       "    <tr>\n",
       "      <th>1</th>\n",
       "      <td>14.0</td>\n",
       "      <td>26.9</td>\n",
       "      <td>3.6</td>\n",
       "      <td>4.4</td>\n",
       "      <td>9.7</td>\n",
       "      <td>ENE</td>\n",
       "      <td>39.0</td>\n",
       "      <td>E</td>\n",
       "      <td>W</td>\n",
       "      <td>4.0</td>\n",
       "      <td>...</td>\n",
       "      <td>80</td>\n",
       "      <td>36</td>\n",
       "      <td>1012.4</td>\n",
       "      <td>1008.4</td>\n",
       "      <td>5</td>\n",
       "      <td>3</td>\n",
       "      <td>17.5</td>\n",
       "      <td>25.7</td>\n",
       "      <td>Yes</td>\n",
       "      <td>Yes</td>\n",
       "    </tr>\n",
       "    <tr>\n",
       "      <th>2</th>\n",
       "      <td>13.7</td>\n",
       "      <td>23.4</td>\n",
       "      <td>3.6</td>\n",
       "      <td>5.8</td>\n",
       "      <td>3.3</td>\n",
       "      <td>NW</td>\n",
       "      <td>85.0</td>\n",
       "      <td>N</td>\n",
       "      <td>NNE</td>\n",
       "      <td>6.0</td>\n",
       "      <td>...</td>\n",
       "      <td>82</td>\n",
       "      <td>69</td>\n",
       "      <td>1009.5</td>\n",
       "      <td>1007.2</td>\n",
       "      <td>8</td>\n",
       "      <td>7</td>\n",
       "      <td>15.4</td>\n",
       "      <td>20.2</td>\n",
       "      <td>Yes</td>\n",
       "      <td>Yes</td>\n",
       "    </tr>\n",
       "    <tr>\n",
       "      <th>3</th>\n",
       "      <td>13.3</td>\n",
       "      <td>15.5</td>\n",
       "      <td>39.8</td>\n",
       "      <td>7.2</td>\n",
       "      <td>9.1</td>\n",
       "      <td>NW</td>\n",
       "      <td>54.0</td>\n",
       "      <td>WNW</td>\n",
       "      <td>W</td>\n",
       "      <td>30.0</td>\n",
       "      <td>...</td>\n",
       "      <td>62</td>\n",
       "      <td>56</td>\n",
       "      <td>1005.5</td>\n",
       "      <td>1007.0</td>\n",
       "      <td>2</td>\n",
       "      <td>7</td>\n",
       "      <td>13.5</td>\n",
       "      <td>14.1</td>\n",
       "      <td>Yes</td>\n",
       "      <td>Yes</td>\n",
       "    </tr>\n",
       "    <tr>\n",
       "      <th>4</th>\n",
       "      <td>7.6</td>\n",
       "      <td>16.1</td>\n",
       "      <td>2.8</td>\n",
       "      <td>5.6</td>\n",
       "      <td>10.6</td>\n",
       "      <td>SSE</td>\n",
       "      <td>50.0</td>\n",
       "      <td>SSE</td>\n",
       "      <td>ESE</td>\n",
       "      <td>20.0</td>\n",
       "      <td>...</td>\n",
       "      <td>68</td>\n",
       "      <td>49</td>\n",
       "      <td>1018.3</td>\n",
       "      <td>1018.5</td>\n",
       "      <td>7</td>\n",
       "      <td>7</td>\n",
       "      <td>11.1</td>\n",
       "      <td>15.4</td>\n",
       "      <td>Yes</td>\n",
       "      <td>No</td>\n",
       "    </tr>\n",
       "  </tbody>\n",
       "</table>\n",
       "<p>5 rows × 21 columns</p>\n",
       "</div>"
      ],
      "text/plain": [
       "   MinTemp  MaxTemp  Rainfall  Evaporation  Sunshine WindGustDir  \\\n",
       "0      8.0     24.3       0.0          3.4       6.3          NW   \n",
       "1     14.0     26.9       3.6          4.4       9.7         ENE   \n",
       "2     13.7     23.4       3.6          5.8       3.3          NW   \n",
       "3     13.3     15.5      39.8          7.2       9.1          NW   \n",
       "4      7.6     16.1       2.8          5.6      10.6         SSE   \n",
       "\n",
       "   WindGustSpeed WindDir9am WindDir3pm  WindSpeed9am  ...  Humidity9am  \\\n",
       "0           30.0         SW         NW           6.0  ...           68   \n",
       "1           39.0          E          W           4.0  ...           80   \n",
       "2           85.0          N        NNE           6.0  ...           82   \n",
       "3           54.0        WNW          W          30.0  ...           62   \n",
       "4           50.0        SSE        ESE          20.0  ...           68   \n",
       "\n",
       "   Humidity3pm  Pressure9am  Pressure3pm  Cloud9am  Cloud3pm  Temp9am  \\\n",
       "0           29       1019.7       1015.0         7         7     14.4   \n",
       "1           36       1012.4       1008.4         5         3     17.5   \n",
       "2           69       1009.5       1007.2         8         7     15.4   \n",
       "3           56       1005.5       1007.0         2         7     13.5   \n",
       "4           49       1018.3       1018.5         7         7     11.1   \n",
       "\n",
       "   Temp3pm  RainToday RainTomorrow  \n",
       "0     23.6         No          Yes  \n",
       "1     25.7        Yes          Yes  \n",
       "2     20.2        Yes          Yes  \n",
       "3     14.1        Yes          Yes  \n",
       "4     15.4        Yes           No  \n",
       "\n",
       "[5 rows x 21 columns]"
      ]
     },
     "execution_count": 21,
     "metadata": {},
     "output_type": "execute_result"
    }
   ],
   "source": [
    "df.head()"
   ]
  },
  {
   "cell_type": "code",
   "execution_count": 22,
   "metadata": {
    "execution": {
     "iopub.execute_input": "2021-08-19T18:45:33.717271Z",
     "iopub.status.busy": "2021-08-19T18:45:33.630811Z",
     "iopub.status.idle": "2021-08-19T18:45:34.787382Z",
     "shell.execute_reply": "2021-08-19T18:45:34.787933Z",
     "shell.execute_reply.started": "2021-08-19T18:43:57.272295Z"
    },
    "papermill": {
     "duration": 1.244006,
     "end_time": "2021-08-19T18:45:34.788085",
     "exception": false,
     "start_time": "2021-08-19T18:45:33.544079",
     "status": "completed"
    },
    "tags": []
   },
   "outputs": [
    {
     "data": {
      "text/plain": [
       "<matplotlib.axes._subplots.AxesSubplot at 0x7f09d1773dd0>"
      ]
     },
     "execution_count": 22,
     "metadata": {},
     "output_type": "execute_result"
    },
    {
     "data": {
      "image/png": "[encoded data removed]",
      "text/plain": [
       "<Figure size 1080x504 with 2 Axes>"
      ]
     },
     "metadata": {
      "needs_background": "light"
     },
     "output_type": "display_data"
    }
   ],
   "source": [
    "resizecorr()\n",
    "sns.heatmap(df.corr(),annot=True)"
   ]
  },
  {
   "cell_type": "code",
   "execution_count": 23,
   "metadata": {
    "execution": {
     "iopub.execute_input": "2021-08-19T18:45:35.140602Z",
     "iopub.status.busy": "2021-08-19T18:45:35.137613Z",
     "iopub.status.idle": "2021-08-19T18:45:35.354795Z",
     "shell.execute_reply": "2021-08-19T18:45:35.354285Z",
     "shell.execute_reply.started": "2021-08-19T18:43:58.718276Z"
    },
    "papermill": {
     "duration": 0.316611,
     "end_time": "2021-08-19T18:45:35.354933",
     "exception": false,
     "start_time": "2021-08-19T18:45:35.038322",
     "status": "completed"
    },
    "tags": []
   },
   "outputs": [
    {
     "data": {
      "text/plain": [
       "<seaborn.axisgrid.FacetGrid at 0x7f09d127db10>"
      ]
     },
     "execution_count": 23,
     "metadata": {},
     "output_type": "execute_result"
    },
    {
     "data": {
      "image/png": "[encoded data removed]",
      "text/plain": [
       "<Figure size 360x360 with 1 Axes>"
      ]
     },
     "metadata": {
      "needs_background": "light"
     },
     "output_type": "display_data"
    }
   ],
   "source": [
    "sns.relplot(x='MinTemp',y='Temp9am',data=df)"
   ]
  },
  {
   "cell_type": "code",
   "execution_count": 24,
   "metadata": {
    "execution": {
     "iopub.execute_input": "2021-08-19T18:45:35.698070Z",
     "iopub.status.busy": "2021-08-19T18:45:35.697405Z",
     "iopub.status.idle": "2021-08-19T18:45:35.902479Z",
     "shell.execute_reply": "2021-08-19T18:45:35.902968Z",
     "shell.execute_reply.started": "2021-08-19T18:43:58.994365Z"
    },
    "papermill": {
     "duration": 0.292471,
     "end_time": "2021-08-19T18:45:35.903124",
     "exception": false,
     "start_time": "2021-08-19T18:45:35.610653",
     "status": "completed"
    },
    "tags": []
   },
   "outputs": [
    {
     "data": {
      "text/plain": [
       "<seaborn.axisgrid.FacetGrid at 0x7f09d15e0b90>"
      ]
     },
     "execution_count": 24,
     "metadata": {},
     "output_type": "execute_result"
    },
    {
     "data": {
      "image/png": "[encoded data removed]",
      "text/plain": [
       "<Figure size 360x360 with 1 Axes>"
      ]
     },
     "metadata": {
      "needs_background": "light"
     },
     "output_type": "display_data"
    }
   ],
   "source": [
    "sns.relplot(x='MaxTemp',y='Temp3pm',data=df)"
   ]
  },
  {
   "cell_type": "code",
   "execution_count": 25,
   "metadata": {
    "execution": {
     "iopub.execute_input": "2021-08-19T18:45:36.252940Z",
     "iopub.status.busy": "2021-08-19T18:45:36.251914Z",
     "iopub.status.idle": "2021-08-19T18:45:36.466389Z",
     "shell.execute_reply": "2021-08-19T18:45:36.466866Z",
     "shell.execute_reply.started": "2021-08-19T18:43:59.254718Z"
    },
    "papermill": {
     "duration": 0.30553,
     "end_time": "2021-08-19T18:45:36.467038",
     "exception": false,
     "start_time": "2021-08-19T18:45:36.161508",
     "status": "completed"
    },
    "tags": []
   },
   "outputs": [
    {
     "data": {
      "text/plain": [
       "<seaborn.axisgrid.FacetGrid at 0x7f09d127cbd0>"
      ]
     },
     "execution_count": 25,
     "metadata": {},
     "output_type": "execute_result"
    },
    {
     "data": {
      "image/png": "[encoded data removed]",
      "text/plain": [
       "<Figure size 360x360 with 1 Axes>"
      ]
     },
     "metadata": {
      "needs_background": "light"
     },
     "output_type": "display_data"
    }
   ],
   "source": [
    "sns.relplot(x='Sunshine',y='Temp3pm',data=df)"
   ]
  },
  {
   "cell_type": "code",
   "execution_count": 26,
   "metadata": {
    "execution": {
     "iopub.execute_input": "2021-08-19T18:45:36.828906Z",
     "iopub.status.busy": "2021-08-19T18:45:36.826083Z",
     "iopub.status.idle": "2021-08-19T18:45:37.089264Z",
     "shell.execute_reply": "2021-08-19T18:45:37.088567Z",
     "shell.execute_reply.started": "2021-08-19T18:43:59.514371Z"
    },
    "papermill": {
     "duration": 0.35923,
     "end_time": "2021-08-19T18:45:37.089386",
     "exception": false,
     "start_time": "2021-08-19T18:45:36.730156",
     "status": "completed"
    },
    "tags": []
   },
   "outputs": [
    {
     "data": {
      "text/plain": [
       "<matplotlib.axes._subplots.AxesSubplot at 0x7f09d1520350>"
      ]
     },
     "execution_count": 26,
     "metadata": {},
     "output_type": "execute_result"
    },
    {
     "data": {
      "image/png": "[encoded data removed]",
      "text/plain": [
       "<Figure size 864x432 with 1 Axes>"
      ]
     },
     "metadata": {
      "needs_background": "light"
     },
     "output_type": "display_data"
    }
   ],
   "source": [
    "resizeplot()\n",
    "sns.distplot(df['WindSpeed9am'])\n",
    "sns.distplot(df['WindSpeed3pm'])"
   ]
  },
  {
   "cell_type": "code",
   "execution_count": 27,
   "metadata": {
    "execution": {
     "iopub.execute_input": "2021-08-19T18:45:37.463995Z",
     "iopub.status.busy": "2021-08-19T18:45:37.462895Z",
     "iopub.status.idle": "2021-08-19T18:45:37.839791Z",
     "shell.execute_reply": "2021-08-19T18:45:37.840319Z",
     "shell.execute_reply.started": "2021-08-19T18:43:59.817341Z"
    },
    "papermill": {
     "duration": 0.481004,
     "end_time": "2021-08-19T18:45:37.840467",
     "exception": false,
     "start_time": "2021-08-19T18:45:37.359463",
     "status": "completed"
    },
    "tags": []
   },
   "outputs": [
    {
     "data": {
      "text/plain": [
       "<matplotlib.axes._subplots.AxesSubplot at 0x7f09c97b9f50>"
      ]
     },
     "execution_count": 27,
     "metadata": {},
     "output_type": "execute_result"
    },
    {
     "data": {
      "image/png": "[encoded data removed]",
      "text/plain": [
       "<Figure size 1080x432 with 2 Axes>"
      ]
     },
     "metadata": {
      "needs_background": "light"
     },
     "output_type": "display_data"
    }
   ],
   "source": [
    "fig, ax =plt.subplots(1,2,figsize= (15,6))\n",
    "sns.countplot(df['WindDir9am'],ax=ax[0])\n",
    "sns.countplot(df['WindDir3pm'],ax=ax[1])"
   ]
  },
  {
   "cell_type": "code",
   "execution_count": 28,
   "metadata": {
    "execution": {
     "iopub.execute_input": "2021-08-19T18:45:38.219664Z",
     "iopub.status.busy": "2021-08-19T18:45:38.218958Z",
     "iopub.status.idle": "2021-08-19T18:45:38.379543Z",
     "shell.execute_reply": "2021-08-19T18:45:38.378933Z",
     "shell.execute_reply.started": "2021-08-19T18:44:00.282787Z"
    },
    "papermill": {
     "duration": 0.266231,
     "end_time": "2021-08-19T18:45:38.379663",
     "exception": false,
     "start_time": "2021-08-19T18:45:38.113432",
     "status": "completed"
    },
    "tags": []
   },
   "outputs": [
    {
     "data": {
      "text/plain": [
       "<matplotlib.axes._subplots.AxesSubplot at 0x7f09c966ec90>"
      ]
     },
     "execution_count": 28,
     "metadata": {},
     "output_type": "execute_result"
    },
    {
     "data": {
      "image/png": "[encoded data removed]",
      "text/plain": [
       "<Figure size 864x432 with 1 Axes>"
      ]
     },
     "metadata": {
      "needs_background": "light"
     },
     "output_type": "display_data"
    }
   ],
   "source": [
    "resizeplot()\n",
    "sns.scatterplot(df['Humidity3pm'],df['Evaporation'])"
   ]
  },
  {
   "cell_type": "code",
   "execution_count": 29,
   "metadata": {
    "execution": {
     "iopub.execute_input": "2021-08-19T18:45:38.761102Z",
     "iopub.status.busy": "2021-08-19T18:45:38.759522Z",
     "iopub.status.idle": "2021-08-19T18:45:39.274045Z",
     "shell.execute_reply": "2021-08-19T18:45:39.273449Z",
     "shell.execute_reply.started": "2021-08-19T18:44:00.490032Z"
    },
    "papermill": {
     "duration": 0.619806,
     "end_time": "2021-08-19T18:45:39.274191",
     "exception": false,
     "start_time": "2021-08-19T18:45:38.654385",
     "status": "completed"
    },
    "tags": []
   },
   "outputs": [
    {
     "data": {
      "text/plain": [
       "<matplotlib.axes._subplots.AxesSubplot at 0x7f09c95d6910>"
      ]
     },
     "execution_count": 29,
     "metadata": {},
     "output_type": "execute_result"
    },
    {
     "data": {
      "image/png": "[encoded data removed]",
      "text/plain": [
       "<Figure size 1080x432 with 2 Axes>"
      ]
     },
     "metadata": {
      "needs_background": "light"
     },
     "output_type": "display_data"
    }
   ],
   "source": [
    "fig, ax =plt.subplots(1,2,figsize= (15,6))\n",
    "sns.distplot(df['Pressure9am'],ax=ax[0])\n",
    "sns.distplot(df['Pressure3pm'],ax=ax[1])"
   ]
  },
  {
   "cell_type": "code",
   "execution_count": 30,
   "metadata": {
    "execution": {
     "iopub.execute_input": "2021-08-19T18:45:39.663719Z",
     "iopub.status.busy": "2021-08-19T18:45:39.663069Z",
     "iopub.status.idle": "2021-08-19T18:45:39.988366Z",
     "shell.execute_reply": "2021-08-19T18:45:39.988888Z",
     "shell.execute_reply.started": "2021-08-19T18:44:01.068021Z"
    },
    "papermill": {
     "duration": 0.432291,
     "end_time": "2021-08-19T18:45:39.989049",
     "exception": false,
     "start_time": "2021-08-19T18:45:39.556758",
     "status": "completed"
    },
    "tags": []
   },
   "outputs": [
    {
     "data": {
      "text/plain": [
       "<matplotlib.axes._subplots.AxesSubplot at 0x7f09d1222a50>"
      ]
     },
     "execution_count": 30,
     "metadata": {},
     "output_type": "execute_result"
    },
    {
     "data": {
      "image/png": "[encoded data removed]",
      "text/plain": [
       "<Figure size 936x432 with 2 Axes>"
      ]
     },
     "metadata": {
      "needs_background": "light"
     },
     "output_type": "display_data"
    }
   ],
   "source": [
    "fig, ax =plt.subplots(1,2,figsize= (13,6))\n",
    "sns.scatterplot(data=df,x='Pressure9am',y='MinTemp',ax=ax[0])\n",
    "sns.scatterplot(data=df,x='Pressure3pm',y='MaxTemp',ax=ax[1],color='red')"
   ]
  },
  {
   "cell_type": "code",
   "execution_count": 31,
   "metadata": {
    "execution": {
     "iopub.execute_input": "2021-08-19T18:45:40.394818Z",
     "iopub.status.busy": "2021-08-19T18:45:40.394188Z",
     "iopub.status.idle": "2021-08-19T18:45:40.718480Z",
     "shell.execute_reply": "2021-08-19T18:45:40.717809Z",
     "shell.execute_reply.started": "2021-08-19T18:44:01.474608Z"
    },
    "papermill": {
     "duration": 0.437632,
     "end_time": "2021-08-19T18:45:40.718611",
     "exception": false,
     "start_time": "2021-08-19T18:45:40.280979",
     "status": "completed"
    },
    "tags": []
   },
   "outputs": [
    {
     "data": {
      "text/plain": [
       "<matplotlib.axes._subplots.AxesSubplot at 0x7f09c93c0dd0>"
      ]
     },
     "execution_count": 31,
     "metadata": {},
     "output_type": "execute_result"
    },
    {
     "data": {
      "image/png": "[encoded data removed]",
      "text/plain": [
       "<Figure size 936x432 with 2 Axes>"
      ]
     },
     "metadata": {
      "needs_background": "light"
     },
     "output_type": "display_data"
    }
   ],
   "source": [
    "fig, ax =plt.subplots(1,2,figsize= (13,6))\n",
    "sns.distplot(df['Cloud9am'],ax=ax[0])\n",
    "sns.distplot(df['Cloud3pm'],ax=ax[1])"
   ]
  },
  {
   "cell_type": "code",
   "execution_count": 32,
   "metadata": {
    "execution": {
     "iopub.execute_input": "2021-08-19T18:45:41.130952Z",
     "iopub.status.busy": "2021-08-19T18:45:41.128817Z",
     "iopub.status.idle": "2021-08-19T18:45:41.456901Z",
     "shell.execute_reply": "2021-08-19T18:45:41.456316Z",
     "shell.execute_reply.started": "2021-08-19T18:44:01.878292Z"
    },
    "papermill": {
     "duration": 0.440012,
     "end_time": "2021-08-19T18:45:41.457050",
     "exception": false,
     "start_time": "2021-08-19T18:45:41.017038",
     "status": "completed"
    },
    "tags": []
   },
   "outputs": [
    {
     "data": {
      "text/plain": [
       "<matplotlib.axes._subplots.AxesSubplot at 0x7f09c92bc890>"
      ]
     },
     "execution_count": 32,
     "metadata": {},
     "output_type": "execute_result"
    },
    {
     "data": {
      "image/png": "[encoded data removed]",
      "text/plain": [
       "<Figure size 936x432 with 2 Axes>"
      ]
     },
     "metadata": {
      "needs_background": "light"
     },
     "output_type": "display_data"
    }
   ],
   "source": [
    "fig, ax =plt.subplots(1,2,figsize= (13,6))\n",
    "sns.scatterplot(data=df, x='Cloud9am',y='Humidity9am',ax=ax[0])\n",
    "sns.scatterplot(data=df,x='Cloud3pm',y='Humidity3pm',ax=ax[1])"
   ]
  },
  {
   "cell_type": "code",
   "execution_count": 33,
   "metadata": {
    "execution": {
     "iopub.execute_input": "2021-08-19T18:45:41.887526Z",
     "iopub.status.busy": "2021-08-19T18:45:41.871921Z",
     "iopub.status.idle": "2021-08-19T18:45:41.892332Z",
     "shell.execute_reply": "2021-08-19T18:45:41.891719Z",
     "shell.execute_reply.started": "2021-08-19T18:44:02.318394Z"
    },
    "papermill": {
     "duration": 0.136559,
     "end_time": "2021-08-19T18:45:41.892457",
     "exception": false,
     "start_time": "2021-08-19T18:45:41.755898",
     "status": "completed"
    },
    "tags": []
   },
   "outputs": [
    {
     "data": {
      "text/html": [
       "<div>\n",
       "<style scoped>\n",
       "    .dataframe tbody tr th:only-of-type {\n",
       "        vertical-align: middle;\n",
       "    }\n",
       "\n",
       "    .dataframe tbody tr th {\n",
       "        vertical-align: top;\n",
       "    }\n",
       "\n",
       "    .dataframe thead th {\n",
       "        text-align: right;\n",
       "    }\n",
       "</style>\n",
       "<table border=\"1\" class=\"dataframe\">\n",
       "  <thead>\n",
       "    <tr style=\"text-align: right;\">\n",
       "      <th></th>\n",
       "      <th>Rainfall</th>\n",
       "      <th>Sunshine</th>\n",
       "      <th>Evaporation</th>\n",
       "      <th>WindGustSpeed</th>\n",
       "      <th>WindSpeed9am</th>\n",
       "      <th>WindSpeed3pm</th>\n",
       "      <th>Humidity9am</th>\n",
       "      <th>Humidity3pm</th>\n",
       "      <th>Pressure9am</th>\n",
       "      <th>Pressure3pm</th>\n",
       "      <th>Cloud9am</th>\n",
       "      <th>Cloud3pm</th>\n",
       "      <th>Temp9am</th>\n",
       "      <th>Temp3pm</th>\n",
       "    </tr>\n",
       "    <tr>\n",
       "      <th>RainToday</th>\n",
       "      <th></th>\n",
       "      <th></th>\n",
       "      <th></th>\n",
       "      <th></th>\n",
       "      <th></th>\n",
       "      <th></th>\n",
       "      <th></th>\n",
       "      <th></th>\n",
       "      <th></th>\n",
       "      <th></th>\n",
       "      <th></th>\n",
       "      <th></th>\n",
       "      <th></th>\n",
       "      <th></th>\n",
       "    </tr>\n",
       "  </thead>\n",
       "  <tbody>\n",
       "    <tr>\n",
       "      <th>No</th>\n",
       "      <td>0.056667</td>\n",
       "      <td>8.179729</td>\n",
       "      <td>4.562667</td>\n",
       "      <td>38.682271</td>\n",
       "      <td>8.683036</td>\n",
       "      <td>17.640000</td>\n",
       "      <td>70.783333</td>\n",
       "      <td>41.996667</td>\n",
       "      <td>1020.812000</td>\n",
       "      <td>1017.658667</td>\n",
       "      <td>3.593333</td>\n",
       "      <td>3.906667</td>\n",
       "      <td>12.126333</td>\n",
       "      <td>19.456000</td>\n",
       "    </tr>\n",
       "    <tr>\n",
       "      <th>Yes</th>\n",
       "      <td>7.663636</td>\n",
       "      <td>6.680445</td>\n",
       "      <td>4.336364</td>\n",
       "      <td>45.106061</td>\n",
       "      <td>14.055330</td>\n",
       "      <td>19.560606</td>\n",
       "      <td>77.727273</td>\n",
       "      <td>55.984848</td>\n",
       "      <td>1014.695455</td>\n",
       "      <td>1012.954545</td>\n",
       "      <td>5.242424</td>\n",
       "      <td>4.560606</td>\n",
       "      <td>13.413636</td>\n",
       "      <td>18.207576</td>\n",
       "    </tr>\n",
       "  </tbody>\n",
       "</table>\n",
       "</div>"
      ],
      "text/plain": [
       "           Rainfall  Sunshine  Evaporation  WindGustSpeed  WindSpeed9am  \\\n",
       "RainToday                                                                 \n",
       "No         0.056667  8.179729     4.562667      38.682271      8.683036   \n",
       "Yes        7.663636  6.680445     4.336364      45.106061     14.055330   \n",
       "\n",
       "           WindSpeed3pm  Humidity9am  Humidity3pm  Pressure9am  Pressure3pm  \\\n",
       "RainToday                                                                     \n",
       "No            17.640000    70.783333    41.996667  1020.812000  1017.658667   \n",
       "Yes           19.560606    77.727273    55.984848  1014.695455  1012.954545   \n",
       "\n",
       "           Cloud9am  Cloud3pm    Temp9am    Temp3pm  \n",
       "RainToday                                            \n",
       "No         3.593333  3.906667  12.126333  19.456000  \n",
       "Yes        5.242424  4.560606  13.413636  18.207576  "
      ]
     },
     "execution_count": 33,
     "metadata": {},
     "output_type": "execute_result"
    }
   ],
   "source": [
    "df[['Rainfall','Sunshine','Evaporation','WindGustSpeed','WindSpeed9am','WindSpeed3pm','Humidity9am',\n",
    "    'Humidity3pm','Pressure9am','Pressure3pm','Cloud9am','Cloud3pm','Temp9am',\n",
    "    'Temp3pm']].groupby(df['RainToday']).mean()"
   ]
  },
  {
   "cell_type": "code",
   "execution_count": 34,
   "metadata": {
    "execution": {
     "iopub.execute_input": "2021-08-19T18:45:42.292925Z",
     "iopub.status.busy": "2021-08-19T18:45:42.291964Z",
     "iopub.status.idle": "2021-08-19T18:45:42.295537Z",
     "shell.execute_reply": "2021-08-19T18:45:42.294986Z",
     "shell.execute_reply.started": "2021-08-19T18:44:02.357431Z"
    },
    "papermill": {
     "duration": 0.107687,
     "end_time": "2021-08-19T18:45:42.295674",
     "exception": false,
     "start_time": "2021-08-19T18:45:42.187987",
     "status": "completed"
    },
    "tags": []
   },
   "outputs": [],
   "source": [
    "from sklearn.preprocessing import LabelBinarizer"
   ]
  },
  {
   "cell_type": "code",
   "execution_count": 35,
   "metadata": {
    "execution": {
     "iopub.execute_input": "2021-08-19T18:45:42.500327Z",
     "iopub.status.busy": "2021-08-19T18:45:42.499656Z",
     "iopub.status.idle": "2021-08-19T18:45:42.505016Z",
     "shell.execute_reply": "2021-08-19T18:45:42.504335Z",
     "shell.execute_reply.started": "2021-08-19T18:44:02.366052Z"
    },
    "papermill": {
     "duration": 0.109742,
     "end_time": "2021-08-19T18:45:42.505154",
     "exception": false,
     "start_time": "2021-08-19T18:45:42.395412",
     "status": "completed"
    },
    "tags": []
   },
   "outputs": [],
   "source": [
    "LB = LabelBinarizer()"
   ]
  },
  {
   "cell_type": "code",
   "execution_count": 36,
   "metadata": {
    "execution": {
     "iopub.execute_input": "2021-08-19T18:45:42.708326Z",
     "iopub.status.busy": "2021-08-19T18:45:42.707655Z",
     "iopub.status.idle": "2021-08-19T18:45:42.718934Z",
     "shell.execute_reply": "2021-08-19T18:45:42.718374Z",
     "shell.execute_reply.started": "2021-08-19T18:44:02.378857Z"
    },
    "papermill": {
     "duration": 0.113859,
     "end_time": "2021-08-19T18:45:42.719067",
     "exception": false,
     "start_time": "2021-08-19T18:45:42.605208",
     "status": "completed"
    },
    "tags": []
   },
   "outputs": [],
   "source": [
    "df['WindGustDir'] = LB.fit_transform(df[['WindGustDir']])"
   ]
  },
  {
   "cell_type": "code",
   "execution_count": 37,
   "metadata": {
    "execution": {
     "iopub.execute_input": "2021-08-19T18:45:42.928161Z",
     "iopub.status.busy": "2021-08-19T18:45:42.927160Z",
     "iopub.status.idle": "2021-08-19T18:45:42.930537Z",
     "shell.execute_reply": "2021-08-19T18:45:42.930011Z",
     "shell.execute_reply.started": "2021-08-19T18:44:02.398469Z"
    },
    "papermill": {
     "duration": 0.112493,
     "end_time": "2021-08-19T18:45:42.930664",
     "exception": false,
     "start_time": "2021-08-19T18:45:42.818171",
     "status": "completed"
    },
    "tags": []
   },
   "outputs": [],
   "source": [
    "df['WindDir9am'] = LB.fit_transform(df[['WindDir9am']])"
   ]
  },
  {
   "cell_type": "code",
   "execution_count": 38,
   "metadata": {
    "execution": {
     "iopub.execute_input": "2021-08-19T18:45:43.139851Z",
     "iopub.status.busy": "2021-08-19T18:45:43.138922Z",
     "iopub.status.idle": "2021-08-19T18:45:43.143414Z",
     "shell.execute_reply": "2021-08-19T18:45:43.142890Z",
     "shell.execute_reply.started": "2021-08-19T18:44:02.417530Z"
    },
    "papermill": {
     "duration": 0.114653,
     "end_time": "2021-08-19T18:45:43.143539",
     "exception": false,
     "start_time": "2021-08-19T18:45:43.028886",
     "status": "completed"
    },
    "tags": []
   },
   "outputs": [],
   "source": [
    "df['WindDir3pm'] = LB.fit_transform(df[['WindDir3pm']])"
   ]
  },
  {
   "cell_type": "code",
   "execution_count": 39,
   "metadata": {
    "execution": {
     "iopub.execute_input": "2021-08-19T18:45:43.538987Z",
     "iopub.status.busy": "2021-08-19T18:45:43.538344Z",
     "iopub.status.idle": "2021-08-19T18:45:43.541748Z",
     "shell.execute_reply": "2021-08-19T18:45:43.542262Z",
     "shell.execute_reply.started": "2021-08-19T18:44:02.431539Z"
    },
    "papermill": {
     "duration": 0.105745,
     "end_time": "2021-08-19T18:45:43.542404",
     "exception": false,
     "start_time": "2021-08-19T18:45:43.436659",
     "status": "completed"
    },
    "tags": []
   },
   "outputs": [],
   "source": [
    "from sklearn.preprocessing import LabelEncoder"
   ]
  },
  {
   "cell_type": "code",
   "execution_count": 40,
   "metadata": {
    "execution": {
     "iopub.execute_input": "2021-08-19T18:45:43.741473Z",
     "iopub.status.busy": "2021-08-19T18:45:43.740604Z",
     "iopub.status.idle": "2021-08-19T18:45:43.745031Z",
     "shell.execute_reply": "2021-08-19T18:45:43.744351Z",
     "shell.execute_reply.started": "2021-08-19T18:44:02.438200Z"
    },
    "papermill": {
     "duration": 0.104918,
     "end_time": "2021-08-19T18:45:43.745163",
     "exception": false,
     "start_time": "2021-08-19T18:45:43.640245",
     "status": "completed"
    },
    "tags": []
   },
   "outputs": [],
   "source": [
    "LE = LabelEncoder()"
   ]
  },
  {
   "cell_type": "code",
   "execution_count": 41,
   "metadata": {
    "execution": {
     "iopub.execute_input": "2021-08-19T18:45:43.946758Z",
     "iopub.status.busy": "2021-08-19T18:45:43.946152Z",
     "iopub.status.idle": "2021-08-19T18:45:43.950784Z",
     "shell.execute_reply": "2021-08-19T18:45:43.951378Z",
     "shell.execute_reply.started": "2021-08-19T18:44:02.451554Z"
    },
    "papermill": {
     "duration": 0.10726,
     "end_time": "2021-08-19T18:45:43.951536",
     "exception": false,
     "start_time": "2021-08-19T18:45:43.844276",
     "status": "completed"
    },
    "tags": []
   },
   "outputs": [],
   "source": [
    "df['RainToday'] = LE.fit_transform(df['RainToday'])"
   ]
  },
  {
   "cell_type": "code",
   "execution_count": 42,
   "metadata": {
    "execution": {
     "iopub.execute_input": "2021-08-19T18:45:44.153380Z",
     "iopub.status.busy": "2021-08-19T18:45:44.152711Z",
     "iopub.status.idle": "2021-08-19T18:45:44.157394Z",
     "shell.execute_reply": "2021-08-19T18:45:44.157945Z",
     "shell.execute_reply.started": "2021-08-19T18:44:02.468414Z"
    },
    "papermill": {
     "duration": 0.107512,
     "end_time": "2021-08-19T18:45:44.158102",
     "exception": false,
     "start_time": "2021-08-19T18:45:44.050590",
     "status": "completed"
    },
    "tags": []
   },
   "outputs": [],
   "source": [
    "df['RainTomorrow'] = LE.fit_transform(df['RainTomorrow'])"
   ]
  },
  {
   "cell_type": "code",
   "execution_count": 43,
   "metadata": {
    "execution": {
     "iopub.execute_input": "2021-08-19T18:45:44.556035Z",
     "iopub.status.busy": "2021-08-19T18:45:44.555376Z",
     "iopub.status.idle": "2021-08-19T18:45:44.584086Z",
     "shell.execute_reply": "2021-08-19T18:45:44.583546Z",
     "shell.execute_reply.started": "2021-08-19T18:44:02.480571Z"
    },
    "papermill": {
     "duration": 0.131349,
     "end_time": "2021-08-19T18:45:44.584206",
     "exception": false,
     "start_time": "2021-08-19T18:45:44.452857",
     "status": "completed"
    },
    "tags": []
   },
   "outputs": [
    {
     "data": {
      "text/html": [
       "<div>\n",
       "<style scoped>\n",
       "    .dataframe tbody tr th:only-of-type {\n",
       "        vertical-align: middle;\n",
       "    }\n",
       "\n",
       "    .dataframe tbody tr th {\n",
       "        vertical-align: top;\n",
       "    }\n",
       "\n",
       "    .dataframe thead th {\n",
       "        text-align: right;\n",
       "    }\n",
       "</style>\n",
       "<table border=\"1\" class=\"dataframe\">\n",
       "  <thead>\n",
       "    <tr style=\"text-align: right;\">\n",
       "      <th></th>\n",
       "      <th>MinTemp</th>\n",
       "      <th>MaxTemp</th>\n",
       "      <th>Rainfall</th>\n",
       "      <th>Evaporation</th>\n",
       "      <th>Sunshine</th>\n",
       "      <th>WindGustDir</th>\n",
       "      <th>WindGustSpeed</th>\n",
       "      <th>WindDir9am</th>\n",
       "      <th>WindDir3pm</th>\n",
       "      <th>WindSpeed9am</th>\n",
       "      <th>...</th>\n",
       "      <th>Humidity9am</th>\n",
       "      <th>Humidity3pm</th>\n",
       "      <th>Pressure9am</th>\n",
       "      <th>Pressure3pm</th>\n",
       "      <th>Cloud9am</th>\n",
       "      <th>Cloud3pm</th>\n",
       "      <th>Temp9am</th>\n",
       "      <th>Temp3pm</th>\n",
       "      <th>RainToday</th>\n",
       "      <th>RainTomorrow</th>\n",
       "    </tr>\n",
       "  </thead>\n",
       "  <tbody>\n",
       "    <tr>\n",
       "      <th>0</th>\n",
       "      <td>8.0</td>\n",
       "      <td>24.3</td>\n",
       "      <td>0.0</td>\n",
       "      <td>3.4</td>\n",
       "      <td>6.3</td>\n",
       "      <td>0</td>\n",
       "      <td>30.0</td>\n",
       "      <td>0</td>\n",
       "      <td>0</td>\n",
       "      <td>6.0</td>\n",
       "      <td>...</td>\n",
       "      <td>68</td>\n",
       "      <td>29</td>\n",
       "      <td>1019.7</td>\n",
       "      <td>1015.0</td>\n",
       "      <td>7</td>\n",
       "      <td>7</td>\n",
       "      <td>14.4</td>\n",
       "      <td>23.6</td>\n",
       "      <td>0</td>\n",
       "      <td>1</td>\n",
       "    </tr>\n",
       "    <tr>\n",
       "      <th>1</th>\n",
       "      <td>14.0</td>\n",
       "      <td>26.9</td>\n",
       "      <td>3.6</td>\n",
       "      <td>4.4</td>\n",
       "      <td>9.7</td>\n",
       "      <td>0</td>\n",
       "      <td>39.0</td>\n",
       "      <td>1</td>\n",
       "      <td>0</td>\n",
       "      <td>4.0</td>\n",
       "      <td>...</td>\n",
       "      <td>80</td>\n",
       "      <td>36</td>\n",
       "      <td>1012.4</td>\n",
       "      <td>1008.4</td>\n",
       "      <td>5</td>\n",
       "      <td>3</td>\n",
       "      <td>17.5</td>\n",
       "      <td>25.7</td>\n",
       "      <td>1</td>\n",
       "      <td>1</td>\n",
       "    </tr>\n",
       "    <tr>\n",
       "      <th>2</th>\n",
       "      <td>13.7</td>\n",
       "      <td>23.4</td>\n",
       "      <td>3.6</td>\n",
       "      <td>5.8</td>\n",
       "      <td>3.3</td>\n",
       "      <td>0</td>\n",
       "      <td>85.0</td>\n",
       "      <td>0</td>\n",
       "      <td>0</td>\n",
       "      <td>6.0</td>\n",
       "      <td>...</td>\n",
       "      <td>82</td>\n",
       "      <td>69</td>\n",
       "      <td>1009.5</td>\n",
       "      <td>1007.2</td>\n",
       "      <td>8</td>\n",
       "      <td>7</td>\n",
       "      <td>15.4</td>\n",
       "      <td>20.2</td>\n",
       "      <td>1</td>\n",
       "      <td>1</td>\n",
       "    </tr>\n",
       "    <tr>\n",
       "      <th>3</th>\n",
       "      <td>13.3</td>\n",
       "      <td>15.5</td>\n",
       "      <td>39.8</td>\n",
       "      <td>7.2</td>\n",
       "      <td>9.1</td>\n",
       "      <td>0</td>\n",
       "      <td>54.0</td>\n",
       "      <td>0</td>\n",
       "      <td>0</td>\n",
       "      <td>30.0</td>\n",
       "      <td>...</td>\n",
       "      <td>62</td>\n",
       "      <td>56</td>\n",
       "      <td>1005.5</td>\n",
       "      <td>1007.0</td>\n",
       "      <td>2</td>\n",
       "      <td>7</td>\n",
       "      <td>13.5</td>\n",
       "      <td>14.1</td>\n",
       "      <td>1</td>\n",
       "      <td>1</td>\n",
       "    </tr>\n",
       "    <tr>\n",
       "      <th>4</th>\n",
       "      <td>7.6</td>\n",
       "      <td>16.1</td>\n",
       "      <td>2.8</td>\n",
       "      <td>5.6</td>\n",
       "      <td>10.6</td>\n",
       "      <td>0</td>\n",
       "      <td>50.0</td>\n",
       "      <td>0</td>\n",
       "      <td>0</td>\n",
       "      <td>20.0</td>\n",
       "      <td>...</td>\n",
       "      <td>68</td>\n",
       "      <td>49</td>\n",
       "      <td>1018.3</td>\n",
       "      <td>1018.5</td>\n",
       "      <td>7</td>\n",
       "      <td>7</td>\n",
       "      <td>11.1</td>\n",
       "      <td>15.4</td>\n",
       "      <td>1</td>\n",
       "      <td>0</td>\n",
       "    </tr>\n",
       "  </tbody>\n",
       "</table>\n",
       "<p>5 rows × 21 columns</p>\n",
       "</div>"
      ],
      "text/plain": [
       "   MinTemp  MaxTemp  Rainfall  Evaporation  Sunshine  WindGustDir  \\\n",
       "0      8.0     24.3       0.0          3.4       6.3            0   \n",
       "1     14.0     26.9       3.6          4.4       9.7            0   \n",
       "2     13.7     23.4       3.6          5.8       3.3            0   \n",
       "3     13.3     15.5      39.8          7.2       9.1            0   \n",
       "4      7.6     16.1       2.8          5.6      10.6            0   \n",
       "\n",
       "   WindGustSpeed  WindDir9am  WindDir3pm  WindSpeed9am  ...  Humidity9am  \\\n",
       "0           30.0           0           0           6.0  ...           68   \n",
       "1           39.0           1           0           4.0  ...           80   \n",
       "2           85.0           0           0           6.0  ...           82   \n",
       "3           54.0           0           0          30.0  ...           62   \n",
       "4           50.0           0           0          20.0  ...           68   \n",
       "\n",
       "   Humidity3pm  Pressure9am  Pressure3pm  Cloud9am  Cloud3pm  Temp9am  \\\n",
       "0           29       1019.7       1015.0         7         7     14.4   \n",
       "1           36       1012.4       1008.4         5         3     17.5   \n",
       "2           69       1009.5       1007.2         8         7     15.4   \n",
       "3           56       1005.5       1007.0         2         7     13.5   \n",
       "4           49       1018.3       1018.5         7         7     11.1   \n",
       "\n",
       "   Temp3pm  RainToday  RainTomorrow  \n",
       "0     23.6          0             1  \n",
       "1     25.7          1             1  \n",
       "2     20.2          1             1  \n",
       "3     14.1          1             1  \n",
       "4     15.4          1             0  \n",
       "\n",
       "[5 rows x 21 columns]"
      ]
     },
     "execution_count": 43,
     "metadata": {},
     "output_type": "execute_result"
    }
   ],
   "source": [
    "df.head()"
   ]
  },
  {
   "cell_type": "code",
   "execution_count": 44,
   "metadata": {
    "execution": {
     "iopub.execute_input": "2021-08-19T18:45:44.988050Z",
     "iopub.status.busy": "2021-08-19T18:45:44.987338Z",
     "iopub.status.idle": "2021-08-19T18:45:44.989636Z",
     "shell.execute_reply": "2021-08-19T18:45:44.990215Z",
     "shell.execute_reply.started": "2021-08-19T18:44:02.524242Z"
    },
    "papermill": {
     "duration": 0.107466,
     "end_time": "2021-08-19T18:45:44.990391",
     "exception": false,
     "start_time": "2021-08-19T18:45:44.882925",
     "status": "completed"
    },
    "tags": []
   },
   "outputs": [],
   "source": [
    "from sklearn.model_selection import train_test_split"
   ]
  },
  {
   "cell_type": "code",
   "execution_count": 45,
   "metadata": {
    "execution": {
     "iopub.execute_input": "2021-08-19T18:45:45.195611Z",
     "iopub.status.busy": "2021-08-19T18:45:45.194945Z",
     "iopub.status.idle": "2021-08-19T18:45:45.201044Z",
     "shell.execute_reply": "2021-08-19T18:45:45.201574Z",
     "shell.execute_reply.started": "2021-08-19T18:44:02.531106Z"
    },
    "papermill": {
     "duration": 0.110399,
     "end_time": "2021-08-19T18:45:45.201745",
     "exception": false,
     "start_time": "2021-08-19T18:45:45.091346",
     "status": "completed"
    },
    "tags": []
   },
   "outputs": [],
   "source": [
    "X = df.drop('RainTomorrow',axis=1).values\n",
    "y = df['RainTomorrow'].values"
   ]
  },
  {
   "cell_type": "code",
   "execution_count": 46,
   "metadata": {
    "execution": {
     "iopub.execute_input": "2021-08-19T18:45:45.607306Z",
     "iopub.status.busy": "2021-08-19T18:45:45.606650Z",
     "iopub.status.idle": "2021-08-19T18:45:45.610437Z",
     "shell.execute_reply": "2021-08-19T18:45:45.610961Z",
     "shell.execute_reply.started": "2021-08-19T18:44:02.550640Z"
    },
    "papermill": {
     "duration": 0.107756,
     "end_time": "2021-08-19T18:45:45.611126",
     "exception": false,
     "start_time": "2021-08-19T18:45:45.503370",
     "status": "completed"
    },
    "tags": []
   },
   "outputs": [],
   "source": [
    "from sklearn.preprocessing import MinMaxScaler"
   ]
  },
  {
   "cell_type": "code",
   "execution_count": 47,
   "metadata": {
    "execution": {
     "iopub.execute_input": "2021-08-19T18:45:45.816242Z",
     "iopub.status.busy": "2021-08-19T18:45:45.815566Z",
     "iopub.status.idle": "2021-08-19T18:45:45.818383Z",
     "shell.execute_reply": "2021-08-19T18:45:45.817859Z",
     "shell.execute_reply.started": "2021-08-19T18:44:02.563629Z"
    },
    "papermill": {
     "duration": 0.107491,
     "end_time": "2021-08-19T18:45:45.818509",
     "exception": false,
     "start_time": "2021-08-19T18:45:45.711018",
     "status": "completed"
    },
    "tags": []
   },
   "outputs": [],
   "source": [
    "minmax = MinMaxScaler()"
   ]
  },
  {
   "cell_type": "code",
   "execution_count": 48,
   "metadata": {
    "execution": {
     "iopub.execute_input": "2021-08-19T18:45:46.024177Z",
     "iopub.status.busy": "2021-08-19T18:45:46.023529Z",
     "iopub.status.idle": "2021-08-19T18:45:46.025894Z",
     "shell.execute_reply": "2021-08-19T18:45:46.026430Z",
     "shell.execute_reply.started": "2021-08-19T18:44:02.576627Z"
    },
    "papermill": {
     "duration": 0.108312,
     "end_time": "2021-08-19T18:45:46.026574",
     "exception": false,
     "start_time": "2021-08-19T18:45:45.918262",
     "status": "completed"
    },
    "tags": []
   },
   "outputs": [],
   "source": [
    "X = minmax.fit_transform(X)"
   ]
  },
  {
   "cell_type": "code",
   "execution_count": 49,
   "metadata": {
    "execution": {
     "iopub.execute_input": "2021-08-19T18:45:46.229114Z",
     "iopub.status.busy": "2021-08-19T18:45:46.228414Z",
     "iopub.status.idle": "2021-08-19T18:45:46.234097Z",
     "shell.execute_reply": "2021-08-19T18:45:46.234623Z",
     "shell.execute_reply.started": "2021-08-19T18:44:02.589175Z"
    },
    "papermill": {
     "duration": 0.10849,
     "end_time": "2021-08-19T18:45:46.234771",
     "exception": false,
     "start_time": "2021-08-19T18:45:46.126281",
     "status": "completed"
    },
    "tags": []
   },
   "outputs": [],
   "source": [
    "X_train, X_test, y_train, y_test = train_test_split(X, y, test_size=0.33, random_state=101)"
   ]
  },
  {
   "cell_type": "markdown",
   "metadata": {
    "papermill": {
     "duration": 0.098825,
     "end_time": "2021-08-19T18:45:46.432799",
     "exception": false,
     "start_time": "2021-08-19T18:45:46.333974",
     "status": "completed"
    },
    "tags": []
   },
   "source": [
    "* Let's go to the predictor algorithms."
   ]
  },
  {
   "cell_type": "code",
   "execution_count": 50,
   "metadata": {
    "execution": {
     "iopub.execute_input": "2021-08-19T18:45:46.637543Z",
     "iopub.status.busy": "2021-08-19T18:45:46.636507Z",
     "iopub.status.idle": "2021-08-19T18:45:46.680022Z",
     "shell.execute_reply": "2021-08-19T18:45:46.679345Z",
     "shell.execute_reply.started": "2021-08-19T18:44:02.602551Z"
    },
    "papermill": {
     "duration": 0.146638,
     "end_time": "2021-08-19T18:45:46.680155",
     "exception": false,
     "start_time": "2021-08-19T18:45:46.533517",
     "status": "completed"
    },
    "tags": []
   },
   "outputs": [],
   "source": [
    "from sklearn.tree import DecisionTreeClassifier"
   ]
  },
  {
   "cell_type": "code",
   "execution_count": 51,
   "metadata": {
    "execution": {
     "iopub.execute_input": "2021-08-19T18:45:46.885659Z",
     "iopub.status.busy": "2021-08-19T18:45:46.884867Z",
     "iopub.status.idle": "2021-08-19T18:45:46.888111Z",
     "shell.execute_reply": "2021-08-19T18:45:46.887547Z",
     "shell.execute_reply.started": "2021-08-19T18:44:02.642369Z"
    },
    "papermill": {
     "duration": 0.108686,
     "end_time": "2021-08-19T18:45:46.888236",
     "exception": false,
     "start_time": "2021-08-19T18:45:46.779550",
     "status": "completed"
    },
    "tags": []
   },
   "outputs": [],
   "source": [
    "dtree = DecisionTreeClassifier()"
   ]
  },
  {
   "cell_type": "code",
   "execution_count": 52,
   "metadata": {
    "execution": {
     "iopub.execute_input": "2021-08-19T18:45:47.095086Z",
     "iopub.status.busy": "2021-08-19T18:45:47.093605Z",
     "iopub.status.idle": "2021-08-19T18:45:47.104863Z",
     "shell.execute_reply": "2021-08-19T18:45:47.104186Z",
     "shell.execute_reply.started": "2021-08-19T18:44:02.648251Z"
    },
    "papermill": {
     "duration": 0.117133,
     "end_time": "2021-08-19T18:45:47.104985",
     "exception": false,
     "start_time": "2021-08-19T18:45:46.987852",
     "status": "completed"
    },
    "tags": []
   },
   "outputs": [
    {
     "data": {
      "text/plain": [
       "DecisionTreeClassifier()"
      ]
     },
     "execution_count": 52,
     "metadata": {},
     "output_type": "execute_result"
    }
   ],
   "source": [
    "dtree.fit(X_train,y_train)"
   ]
  },
  {
   "cell_type": "code",
   "execution_count": 53,
   "metadata": {
    "execution": {
     "iopub.execute_input": "2021-08-19T18:45:47.315053Z",
     "iopub.status.busy": "2021-08-19T18:45:47.314080Z",
     "iopub.status.idle": "2021-08-19T18:45:47.317589Z",
     "shell.execute_reply": "2021-08-19T18:45:47.317083Z",
     "shell.execute_reply.started": "2021-08-19T18:44:02.669811Z"
    },
    "papermill": {
     "duration": 0.113727,
     "end_time": "2021-08-19T18:45:47.317707",
     "exception": false,
     "start_time": "2021-08-19T18:45:47.203980",
     "status": "completed"
    },
    "tags": []
   },
   "outputs": [],
   "source": [
    "previsor_dtree = dtree.predict(X_test)"
   ]
  },
  {
   "cell_type": "code",
   "execution_count": 54,
   "metadata": {
    "execution": {
     "iopub.execute_input": "2021-08-19T18:45:47.521471Z",
     "iopub.status.busy": "2021-08-19T18:45:47.520604Z",
     "iopub.status.idle": "2021-08-19T18:45:47.523793Z",
     "shell.execute_reply": "2021-08-19T18:45:47.524375Z",
     "shell.execute_reply.started": "2021-08-19T18:44:02.675862Z"
    },
    "papermill": {
     "duration": 0.107713,
     "end_time": "2021-08-19T18:45:47.524533",
     "exception": false,
     "start_time": "2021-08-19T18:45:47.416820",
     "status": "completed"
    },
    "tags": []
   },
   "outputs": [],
   "source": [
    "from sklearn.metrics import accuracy_score,confusion_matrix,classification_report"
   ]
  },
  {
   "cell_type": "code",
   "execution_count": 55,
   "metadata": {
    "execution": {
     "iopub.execute_input": "2021-08-19T18:45:47.731091Z",
     "iopub.status.busy": "2021-08-19T18:45:47.730369Z",
     "iopub.status.idle": "2021-08-19T18:45:47.743761Z",
     "shell.execute_reply": "2021-08-19T18:45:47.743219Z",
     "shell.execute_reply.started": "2021-08-19T18:44:02.688205Z"
    },
    "papermill": {
     "duration": 0.11934,
     "end_time": "2021-08-19T18:45:47.743900",
     "exception": false,
     "start_time": "2021-08-19T18:45:47.624560",
     "status": "completed"
    },
    "tags": []
   },
   "outputs": [
    {
     "name": "stdout",
     "output_type": "stream",
     "text": [
      "              precision    recall  f1-score   support\n",
      "\n",
      "           0       0.89      0.86      0.88       103\n",
      "           1       0.33      0.39      0.36        18\n",
      "\n",
      "    accuracy                           0.79       121\n",
      "   macro avg       0.61      0.63      0.62       121\n",
      "weighted avg       0.81      0.79      0.80       121\n",
      "\n",
      "[[89 14]\n",
      " [11  7]]\n",
      "\n",
      "\n",
      "Acurácia: 79.3 %\n"
     ]
    }
   ],
   "source": [
    "print(classification_report(y_test,previsor_dtree))\n",
    "print(confusion_matrix(y_test,previsor_dtree))\n",
    "print('\\n')\n",
    "print('Acurácia:',np.round(accuracy_score(y_test,previsor_dtree),3)*100,'%')"
   ]
  },
  {
   "cell_type": "code",
   "execution_count": 56,
   "metadata": {
    "execution": {
     "iopub.execute_input": "2021-08-19T18:45:47.950179Z",
     "iopub.status.busy": "2021-08-19T18:45:47.949341Z",
     "iopub.status.idle": "2021-08-19T18:45:47.982215Z",
     "shell.execute_reply": "2021-08-19T18:45:47.981481Z",
     "shell.execute_reply.started": "2021-08-19T18:44:02.709179Z"
    },
    "papermill": {
     "duration": 0.138408,
     "end_time": "2021-08-19T18:45:47.982362",
     "exception": false,
     "start_time": "2021-08-19T18:45:47.843954",
     "status": "completed"
    },
    "tags": []
   },
   "outputs": [],
   "source": [
    "from sklearn.ensemble import RandomForestClassifier"
   ]
  },
  {
   "cell_type": "code",
   "execution_count": 57,
   "metadata": {
    "execution": {
     "iopub.execute_input": "2021-08-19T18:45:48.193071Z",
     "iopub.status.busy": "2021-08-19T18:45:48.191999Z",
     "iopub.status.idle": "2021-08-19T18:45:48.195968Z",
     "shell.execute_reply": "2021-08-19T18:45:48.195406Z",
     "shell.execute_reply.started": "2021-08-19T18:44:02.746023Z"
    },
    "papermill": {
     "duration": 0.111439,
     "end_time": "2021-08-19T18:45:48.196108",
     "exception": false,
     "start_time": "2021-08-19T18:45:48.084669",
     "status": "completed"
    },
    "tags": []
   },
   "outputs": [],
   "source": [
    "rfc = RandomForestClassifier(n_estimators=200)"
   ]
  },
  {
   "cell_type": "code",
   "execution_count": 58,
   "metadata": {
    "execution": {
     "iopub.execute_input": "2021-08-19T18:45:48.413275Z",
     "iopub.status.busy": "2021-08-19T18:45:48.407733Z",
     "iopub.status.idle": "2021-08-19T18:45:48.842845Z",
     "shell.execute_reply": "2021-08-19T18:45:48.842252Z",
     "shell.execute_reply.started": "2021-08-19T18:44:02.753263Z"
    },
    "papermill": {
     "duration": 0.542959,
     "end_time": "2021-08-19T18:45:48.842978",
     "exception": false,
     "start_time": "2021-08-19T18:45:48.300019",
     "status": "completed"
    },
    "tags": []
   },
   "outputs": [
    {
     "data": {
      "text/plain": [
       "RandomForestClassifier(n_estimators=200)"
      ]
     },
     "execution_count": 58,
     "metadata": {},
     "output_type": "execute_result"
    }
   ],
   "source": [
    "rfc.fit(X_train,y_train)"
   ]
  },
  {
   "cell_type": "code",
   "execution_count": 59,
   "metadata": {
    "execution": {
     "iopub.execute_input": "2021-08-19T18:45:49.054984Z",
     "iopub.status.busy": "2021-08-19T18:45:49.053933Z",
     "iopub.status.idle": "2021-08-19T18:45:49.078414Z",
     "shell.execute_reply": "2021-08-19T18:45:49.077813Z",
     "shell.execute_reply.started": "2021-08-19T18:44:03.238088Z"
    },
    "papermill": {
     "duration": 0.133867,
     "end_time": "2021-08-19T18:45:49.078534",
     "exception": false,
     "start_time": "2021-08-19T18:45:48.944667",
     "status": "completed"
    },
    "tags": []
   },
   "outputs": [],
   "source": [
    "previsor_rfc = rfc.predict(X_test)"
   ]
  },
  {
   "cell_type": "code",
   "execution_count": 60,
   "metadata": {
    "execution": {
     "iopub.execute_input": "2021-08-19T18:45:49.285094Z",
     "iopub.status.busy": "2021-08-19T18:45:49.284093Z",
     "iopub.status.idle": "2021-08-19T18:45:49.287789Z",
     "shell.execute_reply": "2021-08-19T18:45:49.287145Z",
     "shell.execute_reply.started": "2021-08-19T18:44:03.277668Z"
    },
    "papermill": {
     "duration": 0.109344,
     "end_time": "2021-08-19T18:45:49.287933",
     "exception": false,
     "start_time": "2021-08-19T18:45:49.178589",
     "status": "completed"
    },
    "tags": []
   },
   "outputs": [],
   "source": [
    "from sklearn.metrics import accuracy_score,confusion_matrix,classification_report"
   ]
  },
  {
   "cell_type": "code",
   "execution_count": 61,
   "metadata": {
    "execution": {
     "iopub.execute_input": "2021-08-19T18:45:49.498459Z",
     "iopub.status.busy": "2021-08-19T18:45:49.495973Z",
     "iopub.status.idle": "2021-08-19T18:45:49.508045Z",
     "shell.execute_reply": "2021-08-19T18:45:49.507384Z",
     "shell.execute_reply.started": "2021-08-19T18:44:03.288318Z"
    },
    "papermill": {
     "duration": 0.120021,
     "end_time": "2021-08-19T18:45:49.508162",
     "exception": false,
     "start_time": "2021-08-19T18:45:49.388141",
     "status": "completed"
    },
    "tags": []
   },
   "outputs": [
    {
     "name": "stdout",
     "output_type": "stream",
     "text": [
      "              precision    recall  f1-score   support\n",
      "\n",
      "           0       0.88      0.99      0.93       103\n",
      "           1       0.80      0.22      0.35        18\n",
      "\n",
      "    accuracy                           0.88       121\n",
      "   macro avg       0.84      0.61      0.64       121\n",
      "weighted avg       0.87      0.88      0.84       121\n",
      "\n",
      "[[102   1]\n",
      " [ 14   4]]\n",
      "\n",
      "\n",
      "Acurácia: 87.6 %\n"
     ]
    }
   ],
   "source": [
    "print(classification_report(y_test,previsor_rfc))\n",
    "print(confusion_matrix(y_test,previsor_rfc))\n",
    "print('\\n')\n",
    "print('Acurácia:',np.round(accuracy_score(y_test,previsor_rfc),3)*100,'%')"
   ]
  },
  {
   "cell_type": "code",
   "execution_count": 62,
   "metadata": {
    "execution": {
     "iopub.execute_input": "2021-08-19T18:45:49.717739Z",
     "iopub.status.busy": "2021-08-19T18:45:49.717028Z",
     "iopub.status.idle": "2021-08-19T18:45:49.720344Z",
     "shell.execute_reply": "2021-08-19T18:45:49.719720Z",
     "shell.execute_reply.started": "2021-08-19T18:44:03.313704Z"
    },
    "papermill": {
     "duration": 0.110441,
     "end_time": "2021-08-19T18:45:49.720482",
     "exception": false,
     "start_time": "2021-08-19T18:45:49.610041",
     "status": "completed"
    },
    "tags": []
   },
   "outputs": [],
   "source": [
    "from sklearn.svm import SVC"
   ]
  },
  {
   "cell_type": "code",
   "execution_count": 63,
   "metadata": {
    "execution": {
     "iopub.execute_input": "2021-08-19T18:45:49.931164Z",
     "iopub.status.busy": "2021-08-19T18:45:49.930480Z",
     "iopub.status.idle": "2021-08-19T18:45:49.934050Z",
     "shell.execute_reply": "2021-08-19T18:45:49.933427Z",
     "shell.execute_reply.started": "2021-08-19T18:44:03.320560Z"
    },
    "papermill": {
     "duration": 0.109309,
     "end_time": "2021-08-19T18:45:49.934190",
     "exception": false,
     "start_time": "2021-08-19T18:45:49.824881",
     "status": "completed"
    },
    "tags": []
   },
   "outputs": [],
   "source": [
    "model = SVC()"
   ]
  },
  {
   "cell_type": "code",
   "execution_count": 64,
   "metadata": {
    "execution": {
     "iopub.execute_input": "2021-08-19T18:45:50.140991Z",
     "iopub.status.busy": "2021-08-19T18:45:50.140354Z",
     "iopub.status.idle": "2021-08-19T18:45:50.148032Z",
     "shell.execute_reply": "2021-08-19T18:45:50.147443Z",
     "shell.execute_reply.started": "2021-08-19T18:44:03.333974Z"
    },
    "papermill": {
     "duration": 0.112478,
     "end_time": "2021-08-19T18:45:50.148159",
     "exception": false,
     "start_time": "2021-08-19T18:45:50.035681",
     "status": "completed"
    },
    "tags": []
   },
   "outputs": [
    {
     "data": {
      "text/plain": [
       "SVC()"
      ]
     },
     "execution_count": 64,
     "metadata": {},
     "output_type": "execute_result"
    }
   ],
   "source": [
    "model.fit(X_train, y_train)"
   ]
  },
  {
   "cell_type": "code",
   "execution_count": 65,
   "metadata": {
    "execution": {
     "iopub.execute_input": "2021-08-19T18:45:50.374409Z",
     "iopub.status.busy": "2021-08-19T18:45:50.373710Z",
     "iopub.status.idle": "2021-08-19T18:45:50.377954Z",
     "shell.execute_reply": "2021-08-19T18:45:50.378633Z",
     "shell.execute_reply.started": "2021-08-19T18:44:03.354930Z"
    },
    "papermill": {
     "duration": 0.129179,
     "end_time": "2021-08-19T18:45:50.378784",
     "exception": false,
     "start_time": "2021-08-19T18:45:50.249605",
     "status": "completed"
    },
    "tags": []
   },
   "outputs": [],
   "source": [
    "previsor_svc = model.predict(X_test)"
   ]
  },
  {
   "cell_type": "code",
   "execution_count": 66,
   "metadata": {
    "execution": {
     "iopub.execute_input": "2021-08-19T18:45:50.606698Z",
     "iopub.status.busy": "2021-08-19T18:45:50.605760Z",
     "iopub.status.idle": "2021-08-19T18:45:50.609288Z",
     "shell.execute_reply": "2021-08-19T18:45:50.608750Z",
     "shell.execute_reply.started": "2021-08-19T18:44:03.364474Z"
    },
    "papermill": {
     "duration": 0.120285,
     "end_time": "2021-08-19T18:45:50.609410",
     "exception": false,
     "start_time": "2021-08-19T18:45:50.489125",
     "status": "completed"
    },
    "tags": []
   },
   "outputs": [],
   "source": [
    "from sklearn.metrics import classification_report,confusion_matrix"
   ]
  },
  {
   "cell_type": "code",
   "execution_count": 67,
   "metadata": {
    "execution": {
     "iopub.execute_input": "2021-08-19T18:45:50.832123Z",
     "iopub.status.busy": "2021-08-19T18:45:50.830966Z",
     "iopub.status.idle": "2021-08-19T18:45:50.842517Z",
     "shell.execute_reply": "2021-08-19T18:45:50.843008Z",
     "shell.execute_reply.started": "2021-08-19T18:44:03.377460Z"
    },
    "papermill": {
     "duration": 0.121376,
     "end_time": "2021-08-19T18:45:50.843162",
     "exception": false,
     "start_time": "2021-08-19T18:45:50.721786",
     "status": "completed"
    },
    "tags": []
   },
   "outputs": [
    {
     "name": "stdout",
     "output_type": "stream",
     "text": [
      "              precision    recall  f1-score   support\n",
      "\n",
      "           0       0.86      0.99      0.92       103\n",
      "           1       0.67      0.11      0.19        18\n",
      "\n",
      "    accuracy                           0.86       121\n",
      "   macro avg       0.77      0.55      0.56       121\n",
      "weighted avg       0.83      0.86      0.81       121\n",
      "\n",
      "[[102   1]\n",
      " [ 16   2]]\n",
      "\n",
      "\n",
      "Acurácia: 86.0 %\n"
     ]
    }
   ],
   "source": [
    "print(classification_report(y_test,previsor_svc))\n",
    "print(confusion_matrix(y_test,previsor_svc))\n",
    "print('\\n')\n",
    "print('Acurácia:',np.round(accuracy_score(y_test,previsor_svc),3)*100,'%')"
   ]
  },
  {
   "cell_type": "code",
   "execution_count": 68,
   "metadata": {
    "execution": {
     "iopub.execute_input": "2021-08-19T18:45:51.051531Z",
     "iopub.status.busy": "2021-08-19T18:45:51.050536Z",
     "iopub.status.idle": "2021-08-19T18:45:51.056260Z",
     "shell.execute_reply": "2021-08-19T18:45:51.055428Z",
     "shell.execute_reply.started": "2021-08-19T18:44:03.400965Z"
    },
    "papermill": {
     "duration": 0.111231,
     "end_time": "2021-08-19T18:45:51.056423",
     "exception": false,
     "start_time": "2021-08-19T18:45:50.945192",
     "status": "completed"
    },
    "tags": []
   },
   "outputs": [],
   "source": [
    "from sklearn.linear_model import LogisticRegression"
   ]
  },
  {
   "cell_type": "code",
   "execution_count": 69,
   "metadata": {
    "execution": {
     "iopub.execute_input": "2021-08-19T18:45:51.281377Z",
     "iopub.status.busy": "2021-08-19T18:45:51.280326Z",
     "iopub.status.idle": "2021-08-19T18:45:51.284941Z",
     "shell.execute_reply": "2021-08-19T18:45:51.284053Z",
     "shell.execute_reply.started": "2021-08-19T18:44:03.406974Z"
    },
    "papermill": {
     "duration": 0.117403,
     "end_time": "2021-08-19T18:45:51.285137",
     "exception": false,
     "start_time": "2021-08-19T18:45:51.167734",
     "status": "completed"
    },
    "tags": []
   },
   "outputs": [],
   "source": [
    "LR = LogisticRegression()"
   ]
  },
  {
   "cell_type": "code",
   "execution_count": 70,
   "metadata": {
    "execution": {
     "iopub.execute_input": "2021-08-19T18:45:51.518066Z",
     "iopub.status.busy": "2021-08-19T18:45:51.517374Z",
     "iopub.status.idle": "2021-08-19T18:45:51.537190Z",
     "shell.execute_reply": "2021-08-19T18:45:51.537716Z",
     "shell.execute_reply.started": "2021-08-19T18:44:03.421791Z"
    },
    "papermill": {
     "duration": 0.130472,
     "end_time": "2021-08-19T18:45:51.537896",
     "exception": false,
     "start_time": "2021-08-19T18:45:51.407424",
     "status": "completed"
    },
    "tags": []
   },
   "outputs": [
    {
     "data": {
      "text/plain": [
       "LogisticRegression()"
      ]
     },
     "execution_count": 70,
     "metadata": {},
     "output_type": "execute_result"
    }
   ],
   "source": [
    "LR.fit(X_train,y_train)"
   ]
  },
  {
   "cell_type": "code",
   "execution_count": 71,
   "metadata": {
    "execution": {
     "iopub.execute_input": "2021-08-19T18:45:51.747343Z",
     "iopub.status.busy": "2021-08-19T18:45:51.746628Z",
     "iopub.status.idle": "2021-08-19T18:45:51.750507Z",
     "shell.execute_reply": "2021-08-19T18:45:51.751026Z",
     "shell.execute_reply.started": "2021-08-19T18:44:03.460946Z"
    },
    "papermill": {
     "duration": 0.110647,
     "end_time": "2021-08-19T18:45:51.751194",
     "exception": false,
     "start_time": "2021-08-19T18:45:51.640547",
     "status": "completed"
    },
    "tags": []
   },
   "outputs": [],
   "source": [
    "predict_LR = LR.predict(X_test)"
   ]
  },
  {
   "cell_type": "code",
   "execution_count": 72,
   "metadata": {
    "execution": {
     "iopub.execute_input": "2021-08-19T18:45:51.961084Z",
     "iopub.status.busy": "2021-08-19T18:45:51.960371Z",
     "iopub.status.idle": "2021-08-19T18:45:51.962617Z",
     "shell.execute_reply": "2021-08-19T18:45:51.963141Z",
     "shell.execute_reply.started": "2021-08-19T18:44:03.469578Z"
    },
    "papermill": {
     "duration": 0.110064,
     "end_time": "2021-08-19T18:45:51.963290",
     "exception": false,
     "start_time": "2021-08-19T18:45:51.853226",
     "status": "completed"
    },
    "tags": []
   },
   "outputs": [],
   "source": [
    "from sklearn.metrics import accuracy_score,confusion_matrix,classification_report"
   ]
  },
  {
   "cell_type": "code",
   "execution_count": 73,
   "metadata": {
    "execution": {
     "iopub.execute_input": "2021-08-19T18:45:52.173131Z",
     "iopub.status.busy": "2021-08-19T18:45:52.172404Z",
     "iopub.status.idle": "2021-08-19T18:45:52.187668Z",
     "shell.execute_reply": "2021-08-19T18:45:52.186973Z",
     "shell.execute_reply.started": "2021-08-19T18:44:03.483742Z"
    },
    "papermill": {
     "duration": 0.12154,
     "end_time": "2021-08-19T18:45:52.187802",
     "exception": false,
     "start_time": "2021-08-19T18:45:52.066262",
     "status": "completed"
    },
    "tags": []
   },
   "outputs": [
    {
     "name": "stdout",
     "output_type": "stream",
     "text": [
      "              precision    recall  f1-score   support\n",
      "\n",
      "           0       0.89      0.99      0.94       103\n",
      "           1       0.86      0.33      0.48        18\n",
      "\n",
      "    accuracy                           0.89       121\n",
      "   macro avg       0.88      0.66      0.71       121\n",
      "weighted avg       0.89      0.89      0.87       121\n",
      "\n",
      "[[102   1]\n",
      " [ 12   6]]\n",
      "\n",
      "\n",
      "Acurácia: 89.3 %\n"
     ]
    }
   ],
   "source": [
    "print(classification_report(y_test,predict_LR))\n",
    "print(confusion_matrix(y_test,predict_LR))\n",
    "print('\\n')\n",
    "print('Acurácia:', np.round(accuracy_score(y_test,predict_LR),3)*100,'%')"
   ]
  },
  {
   "cell_type": "code",
   "execution_count": 74,
   "metadata": {
    "execution": {
     "iopub.execute_input": "2021-08-19T18:45:52.405314Z",
     "iopub.status.busy": "2021-08-19T18:45:52.404214Z",
     "iopub.status.idle": "2021-08-19T18:45:52.409920Z",
     "shell.execute_reply": "2021-08-19T18:45:52.409247Z",
     "shell.execute_reply.started": "2021-08-19T18:44:03.504992Z"
    },
    "papermill": {
     "duration": 0.117226,
     "end_time": "2021-08-19T18:45:52.410064",
     "exception": false,
     "start_time": "2021-08-19T18:45:52.292838",
     "status": "completed"
    },
    "tags": []
   },
   "outputs": [],
   "source": [
    "Acuracia_LR = np.round(accuracy_score(y_test,predict_LR),3) *100\n",
    "Acuracia_svc = np.round(accuracy_score(y_test,previsor_svc),3)*100\n",
    "Acuracia_rfc = np.round(accuracy_score(y_test,previsor_rfc),3)*100\n",
    "Acuracia_dtree = np.round(accuracy_score(y_test,previsor_dtree),3)*100\n"
   ]
  },
  {
   "cell_type": "code",
   "execution_count": 75,
   "metadata": {
    "execution": {
     "iopub.execute_input": "2021-08-19T18:45:52.619023Z",
     "iopub.status.busy": "2021-08-19T18:45:52.618357Z",
     "iopub.status.idle": "2021-08-19T18:45:52.626947Z",
     "shell.execute_reply": "2021-08-19T18:45:52.627960Z",
     "shell.execute_reply.started": "2021-08-19T18:44:03.517533Z"
    },
    "papermill": {
     "duration": 0.115194,
     "end_time": "2021-08-19T18:45:52.628216",
     "exception": false,
     "start_time": "2021-08-19T18:45:52.513022",
     "status": "completed"
    },
    "tags": []
   },
   "outputs": [
    {
     "name": "stdout",
     "output_type": "stream",
     "text": [
      "Acurácia_Decision_tree:  79.3 %\n",
      "Acurácia_Random_Forest:  87.6 %\n",
      "Acurácia_LR:  89.3 %\n",
      "Acurácia_SVC:  86.0 %\n"
     ]
    }
   ],
   "source": [
    "print('Acurácia_Decision_tree: ',Acuracia_dtree,'%')\n",
    "print('Acurácia_Random_Forest: ', Acuracia_rfc,'%')\n",
    "print('Acurácia_LR: ', Acuracia_LR,'%')\n",
    "print('Acurácia_SVC: ', Acuracia_svc,'%')"
   ]
  },
  {
   "cell_type": "code",
   "execution_count": null,
   "metadata": {
    "papermill": {
     "duration": 0.103135,
     "end_time": "2021-08-19T18:45:53.038611",
     "exception": false,
     "start_time": "2021-08-19T18:45:52.935476",
     "status": "completed"
    },
    "tags": []
   },
   "outputs": [],
   "source": []
  }
 ],
 "metadata": {
  "kernelspec": {
   "display_name": "Python 3",
   "language": "python",
   "name": "python3"
  },
  "language_info": {
   "codemirror_mode": {
    "name": "ipython",
    "version": 3
   },
   "file_extension": ".py",
   "mimetype": "text/x-python",
   "name": "python",
   "nbconvert_exporter": "python",
   "pygments_lexer": "ipython3",
   "version": "3.8.8"
  },
  "papermill": {
   "duration": 31.89329,
   "end_time": "2021-08-19T18:45:53.249526",
   "environment_variables": {},
   "exception": null,
   "input_path": "__notebook__.ipynb",
   "output_path": "__notebook__.ipynb",
   "parameters": {},
   "start_time": "2021-08-19T18:45:21.356236",
   "version": "2.1.0"
  }
 },
 "nbformat": 4,
 "nbformat_minor": 4
}
